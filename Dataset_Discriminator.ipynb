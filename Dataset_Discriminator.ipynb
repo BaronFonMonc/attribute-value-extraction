{
 "cells": [
  {
   "cell_type": "markdown",
   "id": "2e4b1918-eddf-4814-8c7c-6a64d9aeecba",
   "metadata": {},
   "source": [
    "# Wildberries"
   ]
  },
  {
   "cell_type": "code",
   "execution_count": 1,
   "id": "aa2d101a-57c8-4463-8f64-ac95b1eed817",
   "metadata": {},
   "outputs": [],
   "source": [
    "import pandas as pd"
   ]
  },
  {
   "cell_type": "code",
   "execution_count": 2,
   "id": "89f7eedf-f3cf-45ec-87b3-462472fd8f8f",
   "metadata": {},
   "outputs": [],
   "source": [
    "def formate_options(data_options):\n",
    "    formated_options = '{\\n'\n",
    "    for i in data_options:\n",
    "        formated_options += '    \"' + str(i['name']) + '\" : \"' + str(i['value']) + '\",\\n'\n",
    "    return formated_options[:-2] + '\\n}'"
   ]
  },
  {
   "cell_type": "code",
   "execution_count": 3,
   "id": "1749470f-102c-45c8-b56a-e58e7cfa0891",
   "metadata": {},
   "outputs": [
    {
     "data": {
      "application/vnd.jupyter.widget-view+json": {
       "model_id": "1c7948d7265a422bae166c9543a8091a",
       "version_major": 2,
       "version_minor": 0
      },
      "text/plain": [
       "  0%|          | 0/112580 [00:00<?, ?it/s]"
      ]
     },
     "metadata": {},
     "output_type": "display_data"
    },
    {
     "name": "stdout",
     "output_type": "stream",
     "text": [
      "\n",
      "Done. 111771\n"
     ]
    }
   ],
   "source": [
    "import json\n",
    "import os\n",
    "from tqdm.notebook import tqdm\n",
    "\n",
    "arr = os.listdir('D:/wb_scraped/description/')\n",
    "ids = []\n",
    "names = []\n",
    "descriptions = []\n",
    "categories = []\n",
    "root_categories = []\n",
    "formated_options = []\n",
    "options = []\n",
    "grouped_options = []\n",
    "\n",
    "cnt = 0\n",
    "\n",
    "for f in tqdm(arr):\n",
    "    #prinnt('.', end='')\n",
    "    #print(f,'!'*100, cnt)\n",
    "    cnt = cnt + 1\n",
    "    # read file\n",
    "    with open('D:/wb_scraped/description/' + f, 'r', encoding='utf-8') as myfile:\n",
    "        data=myfile.read()\n",
    "    \n",
    "    # parse file\n",
    "    obj = json.loads(data)\n",
    "    data = obj\n",
    "\n",
    "    if 'options' not in data:\n",
    "        continue\n",
    "    ids.append(data['nm_id'])\n",
    "    formated_options.append(formate_options(data['options']))\n",
    "    options.append(data['options'])\n",
    "    if 'grouped_options' in data:\n",
    "        grouped_options.append(data['grouped_options'])\n",
    "    else:\n",
    "        grouped_options.append('')\n",
    "    if 'imt_name' in data:\n",
    "        names.append(data['imt_name'])\n",
    "    else:\n",
    "        names.append('')\n",
    "    if 'description' in data:\n",
    "        descriptions.append(data['description'])\n",
    "    else:\n",
    "        descriptions.append('')\n",
    "    categories.append(data['subj_name'])\n",
    "    if 'subj_root_name' in data:\n",
    "        root_categories.append(data['subj_root_name'])\n",
    "    else:\n",
    "        root_categories.append('')\n",
    "print()\n",
    "print(\"Done.\", len(ids))"
   ]
  },
  {
   "cell_type": "code",
   "execution_count": 4,
   "id": "7692be3b-d4b6-4ef6-8e23-6956e6f3af42",
   "metadata": {},
   "outputs": [],
   "source": [
    "urls = []\n",
    "for i in range(len(ids)):\n",
    "    urls.append('https://www.wildberries.ru/catalog/' + str(ids[i]) + '/detail.aspx')"
   ]
  },
  {
   "cell_type": "code",
   "execution_count": 5,
   "id": "42a1f360-a658-43fb-9c65-2f51ac62cb55",
   "metadata": {},
   "outputs": [],
   "source": [
    "def opts_to_dict(opts):\n",
    "    res = {}\n",
    "    for i in opts:\n",
    "        res[str(i['name'])] = str(i['value'])\n",
    "    return res\n",
    "\n",
    "formated_options = []\n",
    "for i in range(len(options)):\n",
    "    formated_options.append(opts_to_dict(options[i]))"
   ]
  },
  {
   "cell_type": "code",
   "execution_count": 6,
   "id": "6db0c3ab-3d75-40ee-be3d-3fa221c81c38",
   "metadata": {},
   "outputs": [],
   "source": [
    "data_csv = {\n",
    "        'id': ids,\n",
    "        'title': names,\n",
    "        'description': descriptions,\n",
    "        'categories' : categories,\n",
    "        'root_categories' : root_categories,\n",
    "        'formated_options' : formated_options,\n",
    "        'options' : options,\n",
    "        'grouped_options' : grouped_options,\n",
    "        'uri': urls\n",
    "        }\n",
    "\n",
    "df_csv = pd.DataFrame(data_csv)"
   ]
  },
  {
   "cell_type": "code",
   "execution_count": 7,
   "id": "4a976351-cdc8-4e34-92ab-715ee92be61e",
   "metadata": {},
   "outputs": [
    {
     "data": {
      "text/html": [
       "<div>\n",
       "<style scoped>\n",
       "    .dataframe tbody tr th:only-of-type {\n",
       "        vertical-align: middle;\n",
       "    }\n",
       "\n",
       "    .dataframe tbody tr th {\n",
       "        vertical-align: top;\n",
       "    }\n",
       "\n",
       "    .dataframe thead th {\n",
       "        text-align: right;\n",
       "    }\n",
       "</style>\n",
       "<table border=\"1\" class=\"dataframe\">\n",
       "  <thead>\n",
       "    <tr style=\"text-align: right;\">\n",
       "      <th></th>\n",
       "      <th>id</th>\n",
       "      <th>title</th>\n",
       "      <th>description</th>\n",
       "      <th>categories</th>\n",
       "      <th>root_categories</th>\n",
       "      <th>formated_options</th>\n",
       "      <th>options</th>\n",
       "      <th>grouped_options</th>\n",
       "      <th>uri</th>\n",
       "    </tr>\n",
       "  </thead>\n",
       "  <tbody>\n",
       "    <tr>\n",
       "      <th>0</th>\n",
       "      <td>100009297</td>\n",
       "      <td>Автомобиль \"Космос\" АКЦИЯ 7166-505933</td>\n",
       "      <td>У вас растёт маленький гонщик? Подарите юному ...</td>\n",
       "      <td>Электромобили</td>\n",
       "      <td>Электротранспорт</td>\n",
       "      <td>{'Цвет': 'серебристый', 'Материал рамы/основан...</td>\n",
       "      <td>[{'name': 'Цвет', 'value': 'серебристый', 'is_...</td>\n",
       "      <td>[{'group_name': 'Основная информация', 'option...</td>\n",
       "      <td>https://www.wildberries.ru/catalog/100009297/d...</td>\n",
       "    </tr>\n",
       "    <tr>\n",
       "      <th>1</th>\n",
       "      <td>100028115</td>\n",
       "      <td>Детский электромобиль Bentley машина с пультом...</td>\n",
       "      <td>Детский электромобиль Bentley EXP12  выполнен ...</td>\n",
       "      <td>Электромобили</td>\n",
       "      <td>Электротранспорт</td>\n",
       "      <td>{'Цвет': 'белый', 'Материал рамы/основания': '...</td>\n",
       "      <td>[{'name': 'Цвет', 'value': 'белый', 'is_variab...</td>\n",
       "      <td>[{'group_name': 'Основная информация', 'option...</td>\n",
       "      <td>https://www.wildberries.ru/catalog/100028115/d...</td>\n",
       "    </tr>\n",
       "    <tr>\n",
       "      <th>2</th>\n",
       "      <td>100028116</td>\n",
       "      <td>Детский электромобиль Bentley машина с пультом...</td>\n",
       "      <td>Детский электромобиль Bentley EXP12  выполнен ...</td>\n",
       "      <td>Электромобили</td>\n",
       "      <td>Электротранспорт</td>\n",
       "      <td>{'Цвет': 'фиолетовый', 'Материал рамы/основани...</td>\n",
       "      <td>[{'name': 'Цвет', 'value': 'фиолетовый', 'is_v...</td>\n",
       "      <td>[{'group_name': 'Основная информация', 'option...</td>\n",
       "      <td>https://www.wildberries.ru/catalog/100028116/d...</td>\n",
       "    </tr>\n",
       "    <tr>\n",
       "      <th>3</th>\n",
       "      <td>100028143</td>\n",
       "      <td>Детский электромобиль Bentley машина с пультом...</td>\n",
       "      <td>Детский электромобиль Bentley EXP12  выполнен ...</td>\n",
       "      <td>Электромобили</td>\n",
       "      <td>Электротранспорт</td>\n",
       "      <td>{'Цвет': 'зеленый', 'Материал рамы/основания':...</td>\n",
       "      <td>[{'name': 'Цвет', 'value': 'зеленый', 'is_vari...</td>\n",
       "      <td>[{'group_name': 'Основная информация', 'option...</td>\n",
       "      <td>https://www.wildberries.ru/catalog/100028143/d...</td>\n",
       "    </tr>\n",
       "    <tr>\n",
       "      <th>4</th>\n",
       "      <td>100038911</td>\n",
       "      <td>Музыкальная колонка</td>\n",
       "      <td>Радиоприемник от сети и на батарейках, портати...</td>\n",
       "      <td>Радио</td>\n",
       "      <td>Электроника</td>\n",
       "      <td>{'Тип радио': 'аналоговое; Переносной; Портати...</td>\n",
       "      <td>[{'name': 'Тип радио', 'value': 'аналоговое; П...</td>\n",
       "      <td>[{'group_name': 'Питание', 'options': [{'name'...</td>\n",
       "      <td>https://www.wildberries.ru/catalog/100038911/d...</td>\n",
       "    </tr>\n",
       "    <tr>\n",
       "      <th>...</th>\n",
       "      <td>...</td>\n",
       "      <td>...</td>\n",
       "      <td>...</td>\n",
       "      <td>...</td>\n",
       "      <td>...</td>\n",
       "      <td>...</td>\n",
       "      <td>...</td>\n",
       "      <td>...</td>\n",
       "      <td>...</td>\n",
       "    </tr>\n",
       "    <tr>\n",
       "      <th>111766</th>\n",
       "      <td>99978164</td>\n",
       "      <td>Модуль памяти G.Skill Aegis</td>\n",
       "      <td>Память G.SKILL DDR4 предназначена для максимал...</td>\n",
       "      <td>Модули памяти</td>\n",
       "      <td>Ноутбуки и компьютеры</td>\n",
       "      <td>{'Модель': 'F4-2666C19S-16GIS', 'Объем операти...</td>\n",
       "      <td>[{'name': 'Модель', 'value': 'F4-2666C19S-16GI...</td>\n",
       "      <td>[{'group_name': 'Общие характеристики', 'optio...</td>\n",
       "      <td>https://www.wildberries.ru/catalog/99978164/de...</td>\n",
       "    </tr>\n",
       "    <tr>\n",
       "      <th>111767</th>\n",
       "      <td>99982617</td>\n",
       "      <td>Светильник прожектор муляж</td>\n",
       "      <td>**Технические характеристики:****Материал - Пл...</td>\n",
       "      <td>Муляжи камер видеонаблюдения</td>\n",
       "      <td>Умный дом и безопасность</td>\n",
       "      <td>{'Питание': 'Аккумулятор 2400mAh', 'Наличие ба...</td>\n",
       "      <td>[{'name': 'Питание', 'value': 'Аккумулятор 240...</td>\n",
       "      <td>[{'group_name': 'Общие характеристики', 'optio...</td>\n",
       "      <td>https://www.wildberries.ru/catalog/99982617/de...</td>\n",
       "    </tr>\n",
       "    <tr>\n",
       "      <th>111768</th>\n",
       "      <td>99982702</td>\n",
       "      <td>Мышь</td>\n",
       "      <td>Высокоточное управление и эффективную работу в...</td>\n",
       "      <td>Мыши</td>\n",
       "      <td>Периферия и аксессуары</td>\n",
       "      <td>{'Цвет': 'серый', 'Тип мыши': 'лазерная', 'Раз...</td>\n",
       "      <td>[{'name': 'Цвет', 'value': 'серый', 'is_variab...</td>\n",
       "      <td>[{'group_name': 'Основная информация', 'option...</td>\n",
       "      <td>https://www.wildberries.ru/catalog/99982702/de...</td>\n",
       "    </tr>\n",
       "    <tr>\n",
       "      <th>111769</th>\n",
       "      <td>99983782</td>\n",
       "      <td>Умные смарт часы Smart Watch X8 pro</td>\n",
       "      <td>Умные часы Smart Watch X8 pro - в них есть шаг...</td>\n",
       "      <td>Смарт-часы</td>\n",
       "      <td>Смартфоны и аксессуары</td>\n",
       "      <td>{'Модель': 'умные смарт часы Smart Watch x 8 p...</td>\n",
       "      <td>[{'name': 'Модель', 'value': 'умные смарт часы...</td>\n",
       "      <td>[{'group_name': 'Основная информация', 'option...</td>\n",
       "      <td>https://www.wildberries.ru/catalog/99983782/de...</td>\n",
       "    </tr>\n",
       "    <tr>\n",
       "      <th>111770</th>\n",
       "      <td>99986000</td>\n",
       "      <td></td>\n",
       "      <td>Автомобильное зарядное устройство для телефона...</td>\n",
       "      <td>Автомобильные зарядные устройства</td>\n",
       "      <td>Автоэлектроника</td>\n",
       "      <td>{'Максимальный выходной ток': '2.4 А', 'Совмес...</td>\n",
       "      <td>[{'name': 'Максимальный выходной ток', 'value'...</td>\n",
       "      <td>[{'group_name': 'Общие характеристики', 'optio...</td>\n",
       "      <td>https://www.wildberries.ru/catalog/99986000/de...</td>\n",
       "    </tr>\n",
       "  </tbody>\n",
       "</table>\n",
       "<p>111771 rows × 9 columns</p>\n",
       "</div>"
      ],
      "text/plain": [
       "               id                                              title  \\\n",
       "0       100009297              Автомобиль \"Космос\" АКЦИЯ 7166-505933   \n",
       "1       100028115  Детский электромобиль Bentley машина с пультом...   \n",
       "2       100028116  Детский электромобиль Bentley машина с пультом...   \n",
       "3       100028143  Детский электромобиль Bentley машина с пультом...   \n",
       "4       100038911                               Музыкальная колонка    \n",
       "...           ...                                                ...   \n",
       "111766   99978164                       Модуль памяти G.Skill Aegis    \n",
       "111767   99982617                        Светильник прожектор муляж    \n",
       "111768   99982702                                               Мышь   \n",
       "111769   99983782                Умные смарт часы Smart Watch X8 pro   \n",
       "111770   99986000                                                      \n",
       "\n",
       "                                              description  \\\n",
       "0       У вас растёт маленький гонщик? Подарите юному ...   \n",
       "1       Детский электромобиль Bentley EXP12  выполнен ...   \n",
       "2       Детский электромобиль Bentley EXP12  выполнен ...   \n",
       "3       Детский электромобиль Bentley EXP12  выполнен ...   \n",
       "4       Радиоприемник от сети и на батарейках, портати...   \n",
       "...                                                   ...   \n",
       "111766  Память G.SKILL DDR4 предназначена для максимал...   \n",
       "111767  **Технические характеристики:****Материал - Пл...   \n",
       "111768  Высокоточное управление и эффективную работу в...   \n",
       "111769  Умные часы Smart Watch X8 pro - в них есть шаг...   \n",
       "111770  Автомобильное зарядное устройство для телефона...   \n",
       "\n",
       "                               categories           root_categories  \\\n",
       "0                           Электромобили          Электротранспорт   \n",
       "1                           Электромобили          Электротранспорт   \n",
       "2                           Электромобили          Электротранспорт   \n",
       "3                           Электромобили          Электротранспорт   \n",
       "4                                   Радио               Электроника   \n",
       "...                                   ...                       ...   \n",
       "111766                      Модули памяти     Ноутбуки и компьютеры   \n",
       "111767       Муляжи камер видеонаблюдения  Умный дом и безопасность   \n",
       "111768                               Мыши    Периферия и аксессуары   \n",
       "111769                         Смарт-часы    Смартфоны и аксессуары   \n",
       "111770  Автомобильные зарядные устройства           Автоэлектроника   \n",
       "\n",
       "                                         formated_options  \\\n",
       "0       {'Цвет': 'серебристый', 'Материал рамы/основан...   \n",
       "1       {'Цвет': 'белый', 'Материал рамы/основания': '...   \n",
       "2       {'Цвет': 'фиолетовый', 'Материал рамы/основани...   \n",
       "3       {'Цвет': 'зеленый', 'Материал рамы/основания':...   \n",
       "4       {'Тип радио': 'аналоговое; Переносной; Портати...   \n",
       "...                                                   ...   \n",
       "111766  {'Модель': 'F4-2666C19S-16GIS', 'Объем операти...   \n",
       "111767  {'Питание': 'Аккумулятор 2400mAh', 'Наличие ба...   \n",
       "111768  {'Цвет': 'серый', 'Тип мыши': 'лазерная', 'Раз...   \n",
       "111769  {'Модель': 'умные смарт часы Smart Watch x 8 p...   \n",
       "111770  {'Максимальный выходной ток': '2.4 А', 'Совмес...   \n",
       "\n",
       "                                                  options  \\\n",
       "0       [{'name': 'Цвет', 'value': 'серебристый', 'is_...   \n",
       "1       [{'name': 'Цвет', 'value': 'белый', 'is_variab...   \n",
       "2       [{'name': 'Цвет', 'value': 'фиолетовый', 'is_v...   \n",
       "3       [{'name': 'Цвет', 'value': 'зеленый', 'is_vari...   \n",
       "4       [{'name': 'Тип радио', 'value': 'аналоговое; П...   \n",
       "...                                                   ...   \n",
       "111766  [{'name': 'Модель', 'value': 'F4-2666C19S-16GI...   \n",
       "111767  [{'name': 'Питание', 'value': 'Аккумулятор 240...   \n",
       "111768  [{'name': 'Цвет', 'value': 'серый', 'is_variab...   \n",
       "111769  [{'name': 'Модель', 'value': 'умные смарт часы...   \n",
       "111770  [{'name': 'Максимальный выходной ток', 'value'...   \n",
       "\n",
       "                                          grouped_options  \\\n",
       "0       [{'group_name': 'Основная информация', 'option...   \n",
       "1       [{'group_name': 'Основная информация', 'option...   \n",
       "2       [{'group_name': 'Основная информация', 'option...   \n",
       "3       [{'group_name': 'Основная информация', 'option...   \n",
       "4       [{'group_name': 'Питание', 'options': [{'name'...   \n",
       "...                                                   ...   \n",
       "111766  [{'group_name': 'Общие характеристики', 'optio...   \n",
       "111767  [{'group_name': 'Общие характеристики', 'optio...   \n",
       "111768  [{'group_name': 'Основная информация', 'option...   \n",
       "111769  [{'group_name': 'Основная информация', 'option...   \n",
       "111770  [{'group_name': 'Общие характеристики', 'optio...   \n",
       "\n",
       "                                                      uri  \n",
       "0       https://www.wildberries.ru/catalog/100009297/d...  \n",
       "1       https://www.wildberries.ru/catalog/100028115/d...  \n",
       "2       https://www.wildberries.ru/catalog/100028116/d...  \n",
       "3       https://www.wildberries.ru/catalog/100028143/d...  \n",
       "4       https://www.wildberries.ru/catalog/100038911/d...  \n",
       "...                                                   ...  \n",
       "111766  https://www.wildberries.ru/catalog/99978164/de...  \n",
       "111767  https://www.wildberries.ru/catalog/99982617/de...  \n",
       "111768  https://www.wildberries.ru/catalog/99982702/de...  \n",
       "111769  https://www.wildberries.ru/catalog/99983782/de...  \n",
       "111770  https://www.wildberries.ru/catalog/99986000/de...  \n",
       "\n",
       "[111771 rows x 9 columns]"
      ]
     },
     "execution_count": 7,
     "metadata": {},
     "output_type": "execute_result"
    }
   ],
   "source": [
    "df_csv"
   ]
  },
  {
   "cell_type": "code",
   "execution_count": 9,
   "id": "c390097f-c1e5-4acb-8019-20a522c5f771",
   "metadata": {},
   "outputs": [],
   "source": [
    "from sklearn.model_selection import train_test_split\n",
    "train, test = train_test_split(df_csv, test_size=0.1, random_state=42, shuffle=True)"
   ]
  },
  {
   "cell_type": "code",
   "execution_count": 19,
   "id": "f684bfe7-5c2c-4724-b856-9de404681a1f",
   "metadata": {},
   "outputs": [
    {
     "data": {
      "text/html": [
       "<div>\n",
       "<style scoped>\n",
       "    .dataframe tbody tr th:only-of-type {\n",
       "        vertical-align: middle;\n",
       "    }\n",
       "\n",
       "    .dataframe tbody tr th {\n",
       "        vertical-align: top;\n",
       "    }\n",
       "\n",
       "    .dataframe thead th {\n",
       "        text-align: right;\n",
       "    }\n",
       "</style>\n",
       "<table border=\"1\" class=\"dataframe\">\n",
       "  <thead>\n",
       "    <tr style=\"text-align: right;\">\n",
       "      <th></th>\n",
       "      <th>id</th>\n",
       "      <th>title</th>\n",
       "      <th>description</th>\n",
       "      <th>formated_options</th>\n",
       "    </tr>\n",
       "  </thead>\n",
       "  <tbody>\n",
       "    <tr>\n",
       "      <th>32102</th>\n",
       "      <td>170675441</td>\n",
       "      <td>Игровой Компьютер Аллигатор GTX 1650 Bluetooth V1</td>\n",
       "      <td>Аллигатор V1 GTX 1650 Bluetooth - современный,...</td>\n",
       "      <td>{'Модель': 'Аллигатор 1650 Bluetooth', 'Тип на...</td>\n",
       "    </tr>\n",
       "    <tr>\n",
       "      <th>15881</th>\n",
       "      <td>149428863</td>\n",
       "      <td>Магнитола для автомобиля с блютузом Premiera M...</td>\n",
       "      <td>Premiere MVH-140 FM/ SD/USB с беспроводной те...</td>\n",
       "      <td>{'Доп. опции проигрывателя': 'эквалайзер; Регу...</td>\n",
       "    </tr>\n",
       "    <tr>\n",
       "      <th>12608</th>\n",
       "      <td>144523108</td>\n",
       "      <td>Монитор Xiaomi Redmi Curved Display 30\" 200Hz ...</td>\n",
       "      <td>Xiaomi Redmi Curved Display 30\" 200Hz (RMMNT30...</td>\n",
       "      <td>{'Модель': 'Монитор Xiaomi Redmi Curved Displa...</td>\n",
       "    </tr>\n",
       "    <tr>\n",
       "      <th>59322</th>\n",
       "      <td>196279808</td>\n",
       "      <td>Торговые весы SW-5</td>\n",
       "      <td>Весы торговые настольные CAS SW-5  до 5 кг. Пр...</td>\n",
       "      <td>{'Модель': 'SW-5', 'Тип весов': 'электронные',...</td>\n",
       "    </tr>\n",
       "    <tr>\n",
       "      <th>80486</th>\n",
       "      <td>214887848</td>\n",
       "      <td>Проводная игровая мышка</td>\n",
       "      <td>Стильная проводная игровая мышка. Преимущества...</td>\n",
       "      <td>{'Модель': 'проводная игровая', 'Цвет': 'черны...</td>\n",
       "    </tr>\n",
       "    <tr>\n",
       "      <th>...</th>\n",
       "      <td>...</td>\n",
       "      <td>...</td>\n",
       "      <td>...</td>\n",
       "      <td>...</td>\n",
       "    </tr>\n",
       "    <tr>\n",
       "      <th>75779</th>\n",
       "      <td>211115362</td>\n",
       "      <td>Монитор Pro MP273P</td>\n",
       "      <td>Монитор MSI PRO MP273P лучшее решение для ваши...</td>\n",
       "      <td>{'Модель': 'Msi Pro MP273P', 'Диагональ': '27\"...</td>\n",
       "    </tr>\n",
       "    <tr>\n",
       "      <th>102307</th>\n",
       "      <td>48381860</td>\n",
       "      <td>Игровой коврик для мыши компьютерный с принтом...</td>\n",
       "      <td>Компьютерный игровой коврик для мыши размером ...</td>\n",
       "      <td>{'Цвет': 'розовая фуксия', 'Покрытие поверхнос...</td>\n",
       "    </tr>\n",
       "    <tr>\n",
       "      <th>1788</th>\n",
       "      <td>109636133</td>\n",
       "      <td>Кронштейн HiWatch DS-1473ZJ-155</td>\n",
       "      <td>HiWatch DS-1473ZJ-155 – настенный кронштейн дл...</td>\n",
       "      <td>{'Нагрузка максимальная': '3 кг', 'Страна прои...</td>\n",
       "    </tr>\n",
       "    <tr>\n",
       "      <th>69861</th>\n",
       "      <td>206294806</td>\n",
       "      <td>Геймпад джойстик для телефона смартфона</td>\n",
       "      <td>Универсальный беспроводной игровой джойстик-ко...</td>\n",
       "      <td>{'Модель': 'W11', 'Цвет': 'черный', 'Страна пр...</td>\n",
       "    </tr>\n",
       "    <tr>\n",
       "      <th>14771</th>\n",
       "      <td>14765028</td>\n",
       "      <td>Клавиатура проводная</td>\n",
       "      <td>Гарнизон / Клавиатура проводная с классической...</td>\n",
       "      <td>{'Модель': 'Клавиатура для компьютера; Клавиат...</td>\n",
       "    </tr>\n",
       "  </tbody>\n",
       "</table>\n",
       "<p>200 rows × 4 columns</p>\n",
       "</div>"
      ],
      "text/plain": [
       "               id                                              title  \\\n",
       "32102   170675441  Игровой Компьютер Аллигатор GTX 1650 Bluetooth V1   \n",
       "15881   149428863  Магнитола для автомобиля с блютузом Premiera M...   \n",
       "12608   144523108  Монитор Xiaomi Redmi Curved Display 30\" 200Hz ...   \n",
       "59322   196279808                                 Торговые весы SW-5   \n",
       "80486   214887848                            Проводная игровая мышка   \n",
       "...           ...                                                ...   \n",
       "75779   211115362                                 Монитор Pro MP273P   \n",
       "102307   48381860  Игровой коврик для мыши компьютерный с принтом...   \n",
       "1788    109636133                    Кронштейн HiWatch DS-1473ZJ-155   \n",
       "69861   206294806            Геймпад джойстик для телефона смартфона   \n",
       "14771    14765028                               Клавиатура проводная   \n",
       "\n",
       "                                              description  \\\n",
       "32102   Аллигатор V1 GTX 1650 Bluetooth - современный,...   \n",
       "15881    Premiere MVH-140 FM/ SD/USB с беспроводной те...   \n",
       "12608   Xiaomi Redmi Curved Display 30\" 200Hz (RMMNT30...   \n",
       "59322   Весы торговые настольные CAS SW-5  до 5 кг. Пр...   \n",
       "80486   Стильная проводная игровая мышка. Преимущества...   \n",
       "...                                                   ...   \n",
       "75779   Монитор MSI PRO MP273P лучшее решение для ваши...   \n",
       "102307  Компьютерный игровой коврик для мыши размером ...   \n",
       "1788    HiWatch DS-1473ZJ-155 – настенный кронштейн дл...   \n",
       "69861   Универсальный беспроводной игровой джойстик-ко...   \n",
       "14771   Гарнизон / Клавиатура проводная с классической...   \n",
       "\n",
       "                                         formated_options  \n",
       "32102   {'Модель': 'Аллигатор 1650 Bluetooth', 'Тип на...  \n",
       "15881   {'Доп. опции проигрывателя': 'эквалайзер; Регу...  \n",
       "12608   {'Модель': 'Монитор Xiaomi Redmi Curved Displa...  \n",
       "59322   {'Модель': 'SW-5', 'Тип весов': 'электронные',...  \n",
       "80486   {'Модель': 'проводная игровая', 'Цвет': 'черны...  \n",
       "...                                                   ...  \n",
       "75779   {'Модель': 'Msi Pro MP273P', 'Диагональ': '27\"...  \n",
       "102307  {'Цвет': 'розовая фуксия', 'Покрытие поверхнос...  \n",
       "1788    {'Нагрузка максимальная': '3 кг', 'Страна прои...  \n",
       "69861   {'Модель': 'W11', 'Цвет': 'черный', 'Страна пр...  \n",
       "14771   {'Модель': 'Клавиатура для компьютера; Клавиат...  \n",
       "\n",
       "[200 rows x 4 columns]"
      ]
     },
     "execution_count": 19,
     "metadata": {},
     "output_type": "execute_result"
    }
   ],
   "source": [
    "train[:200][['id','title', 'description', 'formated_options']]"
   ]
  },
  {
   "cell_type": "code",
   "execution_count": 21,
   "id": "b75e4fdf-6617-4215-80cd-9024ba8b525c",
   "metadata": {},
   "outputs": [],
   "source": [
    "from json import loads, dumps\n",
    "\n",
    "result = train[:200].to_json(orient=\"records\")\n",
    "parsed = loads(result)\n",
    "#dumps(parsed, indent=4)\n",
    "with open('D:/wb_scraped/TrueDataset.json', 'w', encoding='UTF-8') as file:\n",
    "        json.dump(parsed, file, indent=2, ensure_ascii=False)"
   ]
  },
  {
   "cell_type": "code",
   "execution_count": 22,
   "id": "2b1618c3-73f4-4f22-b4e7-bdff9c827737",
   "metadata": {},
   "outputs": [
    {
     "name": "stdout",
     "output_type": "stream",
     "text": [
      "Hello\n"
     ]
    }
   ],
   "source": [
    "print('Hello')"
   ]
  },
  {
   "cell_type": "code",
   "execution_count": 18,
   "id": "f9e6b18d-e625-48c3-885d-4fcff738e492",
   "metadata": {},
   "outputs": [
    {
     "name": "stdout",
     "output_type": "stream",
     "text": [
      "Игровой Компьютер Аллигатор GTX 1650 Bluetooth V1\n",
      "\n",
      "Аллигатор V1 GTX 1650 Bluetooth - современный, перспективный игровой системный блок. AMD Ryzen 5 PRO 4600G 3.7-4.2 GHz 6 ядер 12 потоков / 16GB DDR4 / GeForce GTX 1650 4GB / 480GB SSD / A320M / 600W / Bluetooth / Гарантия 3 года AMD Ryzen 5 4600G - мощный процессор с тактовой частотой от 3.7 до 4.2 ГГц, 6 ядрами и 12 потоками. Идеальный выбор для высокопроизводительных систем. Предлагает отличную многозадачность и обработку данных, обеспечивая плавную работу приложений и гейминга. GeForce GTX 1650 4GB: графическая карта для игр и работы. 4 ГБ видеопамяти обеспечивают высокую производительность. Поддержка NVIDIA Turing и 896 ядер CUDA гарантируют плавное и реалистичное воспроизведение графики. Компактный размер и энергоэффективность делают ее идеальным выбором для разнообразных систем. На системный блоке установлены все необходимые для старта программы:   кодеки и браузеры, а также модуль Bluetooth для подключения беспроводных устройств. Гарантия 3 года. *Представленный фотообзор может незначительно отличаться в зависимости от партии поставки.\n",
      "\n",
      "{'Модель': 'Аллигатор 1650 Bluetooth', 'Тип накопителя': 'SSD', 'Объем накопителя SSD': '480 ГБ', 'Операционная система': 'windows пробная', 'Интерфейс': 'Ethernet; HDMI; USB', 'Количество портов USB': '8 шт', 'Вид разъема': 'HDMI; USB; Ethernet RJ-45', 'Количество выходов на наушники': '2 шт', 'Процессор': 'AMD Ryzen 5 4600G', 'Количество ядер процессора': '6', 'Тип видеокарты': 'дискретная; GeForce GTX 1650', 'Видеопроцессор': 'GeForce GTX 1650', 'Объем памяти видеокарты': '4ГБ', 'Тип оперативной памяти': 'DDR4', 'Объем оперативной памяти (Гб)': '16', 'Особенности компьютера': 'Игровой компьютер; Компьютер для учебы; игровой системный блок', 'Цвет': 'розовый', 'Игровая модель': 'Аллигатор 1650 Bluetooth', 'Гарантийный срок': '3 Года (36 месяцев)', 'Страна производства': 'Россия', 'Вес с упаковкой (кг)': '10 кг', 'Вес без упаковки (кг)': '8 кг', 'Комплектация': '1 кабель питания; 1 гарантийный талон; 1 - Системный блок', 'Длина упаковки': '50 см', 'Высота упаковки': '44 см', 'Ширина упаковки': '25 см'}\n"
     ]
    }
   ],
   "source": [
    "i = 0\n",
    "print(train.values[i][1], train.values[i][2], train.values[i][5], sep = '\\n\\n')"
   ]
  },
  {
   "cell_type": "code",
   "execution_count": 14,
   "id": "d468774c-6876-46a1-8b53-7ceabc12258d",
   "metadata": {},
   "outputs": [],
   "source": [
    "train.to_csv('D:/wb_scraped/SelectedRealData.csv', index=False, encoding='utf-8')  "
   ]
  },
  {
   "cell_type": "code",
   "execution_count": 8,
   "id": "47a9f38b-a92e-463b-a856-9eede6e89b3c",
   "metadata": {},
   "outputs": [],
   "source": [
    "df_csv.groupby('categories').size().reset_index(name='counts').sort_values(['counts'], ascending=False)\n",
    "df_csv.groupby('categories').size().reset_index(name='counts').sort_values(['counts'], ascending=False).to_csv('D:/wb_scraped/wildberries_cat_03_05.csv', index=False, encoding='windows-1251')  "
   ]
  },
  {
   "cell_type": "markdown",
   "id": "86938911-1291-41d1-a381-f86579029b22",
   "metadata": {},
   "source": [
    "## BERT"
   ]
  },
  {
   "cell_type": "code",
   "execution_count": 14,
   "id": "32bceedd-6c36-42ec-a5c5-98ad68182367",
   "metadata": {},
   "outputs": [
    {
     "data": {
      "text/html": [
       "<div>\n",
       "<style scoped>\n",
       "    .dataframe tbody tr th:only-of-type {\n",
       "        vertical-align: middle;\n",
       "    }\n",
       "\n",
       "    .dataframe tbody tr th {\n",
       "        vertical-align: top;\n",
       "    }\n",
       "\n",
       "    .dataframe thead th {\n",
       "        text-align: right;\n",
       "    }\n",
       "</style>\n",
       "<table border=\"1\" class=\"dataframe\">\n",
       "  <thead>\n",
       "    <tr style=\"text-align: right;\">\n",
       "      <th></th>\n",
       "      <th>_id</th>\n",
       "      <th>id</th>\n",
       "      <th>uri</th>\n",
       "      <th>properties</th>\n",
       "      <th>prompt</th>\n",
       "      <th>description_gpt</th>\n",
       "    </tr>\n",
       "  </thead>\n",
       "  <tbody>\n",
       "    <tr>\n",
       "      <th>0</th>\n",
       "      <td>662d0ad5c5c94b46a12985f9</td>\n",
       "      <td>100044021</td>\n",
       "      <td>https://www.wildberries.ru/catalog/100044021/d...</td>\n",
       "      <td>{'Модель': 'LS-77', 'Вид наушников': 'беспрово...</td>\n",
       "      <td>Сгенерируй описание и оглавление товара на мар...</td>\n",
       "      <td>Оглавление: Беспроводные наушники LS-77\\nОписа...</td>\n",
       "    </tr>\n",
       "    <tr>\n",
       "      <th>1</th>\n",
       "      <td>662d0ad5c5c94b46a12985fa</td>\n",
       "      <td>100051530</td>\n",
       "      <td>https://www.wildberries.ru/catalog/100051530/d...</td>\n",
       "      <td>{'Максимальная диагональ ноутбука': '18 дюймов...</td>\n",
       "      <td>Сгенерируй описание и оглавление товара на мар...</td>\n",
       "      <td>Оглавление: Ноутбук 18 дюймов серебристого цве...</td>\n",
       "    </tr>\n",
       "    <tr>\n",
       "      <th>2</th>\n",
       "      <td>662d0ad5c5c94b46a12985fb</td>\n",
       "      <td>100079382</td>\n",
       "      <td>https://www.wildberries.ru/catalog/100079382/d...</td>\n",
       "      <td>{'Модель': 'Star 2.0 V3', 'Тип накопителя': 'S...</td>\n",
       "      <td>Сгенерируй описание и оглавление товара на мар...</td>\n",
       "      <td>Оглавление: Компьютер Star 2.0 V3 с процессоро...</td>\n",
       "    </tr>\n",
       "    <tr>\n",
       "      <th>3</th>\n",
       "      <td>662d0ad5c5c94b46a12985fc</td>\n",
       "      <td>100083164</td>\n",
       "      <td>https://www.wildberries.ru/catalog/100083164/d...</td>\n",
       "      <td>{'Количество предметов в упаковке': '1 шт', 'М...</td>\n",
       "      <td>Сгенерируй описание и оглавление товара на мар...</td>\n",
       "      <td>Оглавление: Органайзер для маскировки и защиты...</td>\n",
       "    </tr>\n",
       "    <tr>\n",
       "      <th>4</th>\n",
       "      <td>662d0ad5c5c94b46a12985fd</td>\n",
       "      <td>100083207</td>\n",
       "      <td>https://www.wildberries.ru/catalog/100083207/d...</td>\n",
       "      <td>{'Количество предметов в упаковке': '1 шт', 'М...</td>\n",
       "      <td>Сгенерируй описание и оглавление товара на мар...</td>\n",
       "      <td>Оглавление: Органайзер для маскировки и защиты...</td>\n",
       "    </tr>\n",
       "    <tr>\n",
       "      <th>...</th>\n",
       "      <td>...</td>\n",
       "      <td>...</td>\n",
       "      <td>...</td>\n",
       "      <td>...</td>\n",
       "      <td>...</td>\n",
       "      <td>...</td>\n",
       "    </tr>\n",
       "    <tr>\n",
       "      <th>9998</th>\n",
       "      <td>66318f1168d1ee691ac9898d</td>\n",
       "      <td>181932238</td>\n",
       "      <td>https://www.wildberries.ru/catalog/181932238/d...</td>\n",
       "      <td>{'Модель': 'KIBERLI LI8; подарок; для автомоби...</td>\n",
       "      <td>Сгенерируй описание и оглавление товара на мар...</td>\n",
       "      <td>Оглавление: Видеорегистратор-зеркало KIBERLI L...</td>\n",
       "    </tr>\n",
       "    <tr>\n",
       "      <th>9999</th>\n",
       "      <td>66318f1168d1ee691ac9898e</td>\n",
       "      <td>181919309</td>\n",
       "      <td>https://www.wildberries.ru/catalog/181919309/d...</td>\n",
       "      <td>{'Материал изделия': 'пластик; мягкий ПВХ', 'Ш...</td>\n",
       "      <td>Сгенерируй описание и оглавление товара на мар...</td>\n",
       "      <td>Оглавление: Набор аксессуаров для зарядки \"Pow...</td>\n",
       "    </tr>\n",
       "    <tr>\n",
       "      <th>10000</th>\n",
       "      <td>66318f1168d1ee691ac9898f</td>\n",
       "      <td>181944508</td>\n",
       "      <td>https://www.wildberries.ru/catalog/181944508/d...</td>\n",
       "      <td>{'Количество вентиляторов в комплекте': '2', '...</td>\n",
       "      <td>Сгенерируй описание и оглавление товара на мар...</td>\n",
       "      <td>Оглавление: Кулер для процессора SE-207-XT ARG...</td>\n",
       "    </tr>\n",
       "    <tr>\n",
       "      <th>10001</th>\n",
       "      <td>66318f1168d1ee691ac98990</td>\n",
       "      <td>181913306</td>\n",
       "      <td>https://www.wildberries.ru/catalog/181913306/d...</td>\n",
       "      <td>{'Модель': 'LT-65U900', 'Диагональ': '65\"', 'Ф...</td>\n",
       "      <td>Сгенерируй описание и оглавление товара на мар...</td>\n",
       "      <td>Оглавление: Телевизор LT-65U900 65\" 4K UHD And...</td>\n",
       "    </tr>\n",
       "    <tr>\n",
       "      <th>10002</th>\n",
       "      <td>66318f1b68d1ee691ac98991</td>\n",
       "      <td>181919421</td>\n",
       "      <td>https://www.wildberries.ru/catalog/181919421/d...</td>\n",
       "      <td>{'Цвет': 'белый', 'Стандарт связи': '3G; 4G (L...</td>\n",
       "      <td>Сгенерируй описание и оглавление товара на мар...</td>\n",
       "      <td>Оглавление: Смартфон Apple iPhone 13 256GB бел...</td>\n",
       "    </tr>\n",
       "  </tbody>\n",
       "</table>\n",
       "<p>10003 rows × 6 columns</p>\n",
       "</div>"
      ],
      "text/plain": [
       "                            _id         id  \\\n",
       "0      662d0ad5c5c94b46a12985f9  100044021   \n",
       "1      662d0ad5c5c94b46a12985fa  100051530   \n",
       "2      662d0ad5c5c94b46a12985fb  100079382   \n",
       "3      662d0ad5c5c94b46a12985fc  100083164   \n",
       "4      662d0ad5c5c94b46a12985fd  100083207   \n",
       "...                         ...        ...   \n",
       "9998   66318f1168d1ee691ac9898d  181932238   \n",
       "9999   66318f1168d1ee691ac9898e  181919309   \n",
       "10000  66318f1168d1ee691ac9898f  181944508   \n",
       "10001  66318f1168d1ee691ac98990  181913306   \n",
       "10002  66318f1b68d1ee691ac98991  181919421   \n",
       "\n",
       "                                                     uri  \\\n",
       "0      https://www.wildberries.ru/catalog/100044021/d...   \n",
       "1      https://www.wildberries.ru/catalog/100051530/d...   \n",
       "2      https://www.wildberries.ru/catalog/100079382/d...   \n",
       "3      https://www.wildberries.ru/catalog/100083164/d...   \n",
       "4      https://www.wildberries.ru/catalog/100083207/d...   \n",
       "...                                                  ...   \n",
       "9998   https://www.wildberries.ru/catalog/181932238/d...   \n",
       "9999   https://www.wildberries.ru/catalog/181919309/d...   \n",
       "10000  https://www.wildberries.ru/catalog/181944508/d...   \n",
       "10001  https://www.wildberries.ru/catalog/181913306/d...   \n",
       "10002  https://www.wildberries.ru/catalog/181919421/d...   \n",
       "\n",
       "                                              properties  \\\n",
       "0      {'Модель': 'LS-77', 'Вид наушников': 'беспрово...   \n",
       "1      {'Максимальная диагональ ноутбука': '18 дюймов...   \n",
       "2      {'Модель': 'Star 2.0 V3', 'Тип накопителя': 'S...   \n",
       "3      {'Количество предметов в упаковке': '1 шт', 'М...   \n",
       "4      {'Количество предметов в упаковке': '1 шт', 'М...   \n",
       "...                                                  ...   \n",
       "9998   {'Модель': 'KIBERLI LI8; подарок; для автомоби...   \n",
       "9999   {'Материал изделия': 'пластик; мягкий ПВХ', 'Ш...   \n",
       "10000  {'Количество вентиляторов в комплекте': '2', '...   \n",
       "10001  {'Модель': 'LT-65U900', 'Диагональ': '65\"', 'Ф...   \n",
       "10002  {'Цвет': 'белый', 'Стандарт связи': '3G; 4G (L...   \n",
       "\n",
       "                                                  prompt  \\\n",
       "0      Сгенерируй описание и оглавление товара на мар...   \n",
       "1      Сгенерируй описание и оглавление товара на мар...   \n",
       "2      Сгенерируй описание и оглавление товара на мар...   \n",
       "3      Сгенерируй описание и оглавление товара на мар...   \n",
       "4      Сгенерируй описание и оглавление товара на мар...   \n",
       "...                                                  ...   \n",
       "9998   Сгенерируй описание и оглавление товара на мар...   \n",
       "9999   Сгенерируй описание и оглавление товара на мар...   \n",
       "10000  Сгенерируй описание и оглавление товара на мар...   \n",
       "10001  Сгенерируй описание и оглавление товара на мар...   \n",
       "10002  Сгенерируй описание и оглавление товара на мар...   \n",
       "\n",
       "                                         description_gpt  \n",
       "0      Оглавление: Беспроводные наушники LS-77\\nОписа...  \n",
       "1      Оглавление: Ноутбук 18 дюймов серебристого цве...  \n",
       "2      Оглавление: Компьютер Star 2.0 V3 с процессоро...  \n",
       "3      Оглавление: Органайзер для маскировки и защиты...  \n",
       "4      Оглавление: Органайзер для маскировки и защиты...  \n",
       "...                                                  ...  \n",
       "9998   Оглавление: Видеорегистратор-зеркало KIBERLI L...  \n",
       "9999   Оглавление: Набор аксессуаров для зарядки \"Pow...  \n",
       "10000  Оглавление: Кулер для процессора SE-207-XT ARG...  \n",
       "10001  Оглавление: Телевизор LT-65U900 65\" 4K UHD And...  \n",
       "10002  Оглавление: Смартфон Apple iPhone 13 256GB бел...  \n",
       "\n",
       "[10003 rows x 6 columns]"
      ]
     },
     "execution_count": 14,
     "metadata": {},
     "output_type": "execute_result"
    }
   ],
   "source": [
    "bert_df = pd.read_json('D:\\wb_scraped\\gpt_parsed_wb_1000.json')\n",
    "bert_df"
   ]
  },
  {
   "cell_type": "code",
   "execution_count": 15,
   "id": "3d719cf7-8dbe-44ee-9a70-69d981de73cc",
   "metadata": {},
   "outputs": [
    {
     "data": {
      "text/plain": [
       "array(['662d0ad5c5c94b46a12985f9', 100044021,\n",
       "       'https://www.wildberries.ru/catalog/100044021/detail.aspx',\n",
       "       {'Модель': 'LS-77', 'Вид наушников': 'беспроводные; вставные; магнитные', 'Тип подключения': 'Bluetooth 5.0; без проводные; для смартфона', 'Совместимость': 'android; ios; андроид; Ноутбук/планшет; для IPhone; для пк; для детей; для взрослых; для подростков; для водителя', 'Тип крепления наушников': 'вкладыши; шейный ободок; внутриканальные', 'Тип акустического оформления': 'закрытые', 'Чувствительность': '106 дБ', 'Минимальная воспроизводимая частота': '20 Гц', 'Максимальная воспроизводимая частота': '20000 Гц', 'Импеданс': '20 Ом', 'Радиус беспроводной связи': '12 метров; Для бега; Для спорта', 'Разъем подключения наушников': 'microUSB', 'Беспроводные интерфейсы': 'Bluetooth; блютус', 'Доп. опции наушников': 'микрофон; шумоподавление; подвесные на шею', 'Емкость аккумулятора': '200 мА*ч', 'Время зарядки': '1.5 ч.', 'Время работы от аккумулятора': '20 ч.', 'Длина кабеля (м)': '0.25 м', 'Материал корпуса': 'abs-пластик', 'Степень пылевлагозащиты': 'влагостойкие; защита от пыли и влаги; защита от влаги', 'Гарантийный срок': '6 месяцев', 'Страна производства': 'Китай', 'Вес товара без упаковки (г)': '100 г', 'Вес товара с упаковкой (г)': '150 г', 'Диаметр мембраны': '5 мм', 'Глубина предмета': '20 см', 'Ширина предмета': '14 см', 'Высота предмета': '3 см', 'Комплектация': 'Наушники - 1 шт; кабель для зарядки - 1 шт', 'Длина упаковки': '21 см', 'Высота упаковки': '5 см', 'Ширина упаковки': '15 см'},\n",
       "       \"Сгенерируй описание и оглавление товара на маркетплейсе по его атрибутам. Каждое сгенерированное слово в описании и в оглавлении, советующее атрибуту оберни в тэг <@#атрибут>Слово<@>. Ответ выведи в формате\\nОглавление: (Наименование товара в стиле сайта WildBerries)\\nОписание: (Описание товара в стиле сайта WildBerries. Описаны основные качества и преимущества товара)\\n\\nАтрибуты для генерации товара следующие:{'Модель': 'LS-77', 'Вид наушников': 'беспроводные; вставные; магнитные', 'Тип подключения': 'Bluetooth 5.0; без проводные; для смартфона', 'Совместимость': 'android; ios; андроид; Ноутбук/планшет; для IPhone; для пк; для детей; для взрослых; для подростков; для водителя', 'Тип крепления наушников': 'вкладыши; шейный ободок; внутриканальные', 'Тип акустического оформления': 'закрытые', 'Чувствительность': '106 дБ', 'Минимальная воспроизводимая частота': '20 Гц', 'Максимальная воспроизводимая частота': '20000 Гц', 'Импеданс': '20 Ом', 'Радиус беспроводной связи': '12 метров; Для бега; Для спорта', 'Разъем подключения наушников': 'microUSB', 'Беспроводные интерфейсы': 'Bluetooth; блютус', 'Доп. опции наушников': 'микрофон; шумоподавление; подвесные на шею', 'Емкость аккумулятора': '200 мА*ч', 'Время зарядки': '1.5 ч.', 'Время работы от аккумулятора': '20 ч.', 'Длина кабеля (м)': '0.25 м', 'Материал корпуса': 'abs-пластик', 'Степень пылевлагозащиты': 'влагостойкие; защита от пыли и влаги; защита от влаги', 'Гарантийный срок': '6 месяцев', 'Страна производства': 'Китай', 'Вес товара без упаковки (г)': '100 г', 'Вес товара с упаковкой (г)': '150 г', 'Диаметр мембраны': '5 мм', 'Глубина предмета': '20 см', 'Ширина предмета': '14 см', 'Высота предмета': '3 см', 'Комплектация': 'Наушники - 1 шт; кабель для зарядки - 1 шт', 'Длина упаковки': '21 см', 'Высота упаковки': '5 см', 'Ширина упаковки': '15 см'}\",\n",
       "       'Оглавление: Беспроводные наушники LS-77\\nОписание: Беспроводные наушники <@#Модель>LS-77<@> - это идеальный выбор для всех, кто ценит комфорт и качество звука. Они <@#Вид наушников>беспроводные<@>, <@#вставные<@> и <@#магнитные<@>, что делает их удобными в использовании. Совместимы с устройствами <@#android<@>, <@#ios<@>, <@#андроид<@>, <@#Ноутбук/планшет<@>, <@#для IPhone<@>, <@#для пк<@>, <@#для детей<@>, <@#для взрослых<@>, <@#для подростков<@> и <@#для водителя<@>. Наушники имеют <@#Bluetooth 5.0<@> подключение, <@#закрытое<@> акустическое оформление, <@#вкладыши<@> крепления и <@#микрофон<@> с функцией <@#шумоподавление<@>. Аккумулятор емкостью <@#200 мА*ч<@> обеспечивает до <@#20 часов<@> работы от одного заряда. Вес товара без упаковки составляет <@#100 г<@>, а гарантийный срок - <@#6 месяцев<@>. Произведено в <@#Китай<@>. Комплектация включает в себя наушники и кабель для зарядки. Размеры упаковки: <@#21 см<@> (длина) х <@#5 см<@> (высота) х <@#15 см<@> (ширина).'],\n",
       "      dtype=object)"
      ]
     },
     "execution_count": 15,
     "metadata": {},
     "output_type": "execute_result"
    }
   ],
   "source": [
    "i = 0\n",
    "bert_df.values[i]"
   ]
  },
  {
   "cell_type": "markdown",
   "id": "339cc089-b887-4fe3-af36-ef716e179621",
   "metadata": {},
   "source": [
    "## Tags Discriminator"
   ]
  },
  {
   "cell_type": "code",
   "execution_count": 33,
   "id": "5d9629e2-6bb9-4ba4-8a4c-db0c2ec3261c",
   "metadata": {},
   "outputs": [
    {
     "data": {
      "text/plain": [
       "'Оглавление: Игровой коврик для мыши \"Control\" 90*40 см, черный/белый\\nОписание: Игровой коврик для мыши <@#Цвет>черного<@>/<@#Цвет> или <@#Цвет>белого<@> цвета с тканевым покрытием с сублимационной полноцветной печатью. Прямоугольная форма 90*40 см, подходит для игровых моделей на весь стол. Основа из некользящей резины обеспечивает надежное сцепление с поверхностью. Произведено в Китае. В комплекте поставляется 1 шт. Вес товара с упаковкой - 750 г, размеры упаковки: 41 см x 10 см x 11 см.'"
      ]
     },
     "execution_count": 33,
     "metadata": {},
     "output_type": "execute_result"
    }
   ],
   "source": [
    "bert_df.values[i][5]"
   ]
  },
  {
   "cell_type": "code",
   "execution_count": 34,
   "id": "39a3a78b-909c-47cf-b17f-477a61aa510b",
   "metadata": {},
   "outputs": [
    {
     "data": {
      "application/vnd.jupyter.widget-view+json": {
       "model_id": "63f126d1d53f44ba8b20eb6bf45525bc",
       "version_major": 2,
       "version_minor": 0
      },
      "text/plain": [
       "  0%|          | 0/10003 [00:00<?, ?it/s]"
      ]
     },
     "metadata": {},
     "output_type": "display_data"
    },
    {
     "name": "stdout",
     "output_type": "stream",
     "text": [
      "10003 10003 10003\n"
     ]
    }
   ],
   "source": [
    "cnt, cnt1, cnt2 = 0,0,0\n",
    "for i in tqdm(range(len(bert_df.values))):\n",
    "    cnt += 1\n",
    "    if 'Оглавление:' in bert_df.values[i][5]:\n",
    "        cnt1+=1\n",
    "    if 'Описание:' in bert_df.values[i][5]:\n",
    "        cnt2+=1\n",
    "print(cnt,cnt1,cnt2)"
   ]
  },
  {
   "cell_type": "code",
   "execution_count": 35,
   "id": "733a368a-5626-4acf-844e-654f2de6b513",
   "metadata": {},
   "outputs": [],
   "source": [
    "def check_tag(s):\n",
    "    tag = ''\n",
    "    if s[:3] == '<@#':\n",
    "        tag = s[3:]\n",
    "        if '>' in tag:\n",
    "            tag = tag[:tag.find('>')]\n",
    "        else:\n",
    "            return 'Not a tag'\n",
    "    else:\n",
    "        return 'Does not start with a tag'\n",
    "\n",
    "    value = ''\n",
    "    if len(s.split('>')) > 1:\n",
    "        value = s.split('>')[1]\n",
    "        if value[-2:] == '<@':\n",
    "            value = value[:-2]\n",
    "        else:\n",
    "            return 'Does not end properly'\n",
    "    return (tag, value)\n",
    "\n",
    "#print(check_tag('<@#Максимальная диагональ ноутбука>Ноутбук<@>'))\n",
    "#print(check_tag('<@#Максимальная диагональ ноутбука>Ноутбук<@'))\n",
    "#print(check_tag('<@#Максимальная диагональ ноутбука>Ноутбук@>'))\n",
    "#print(check_tag('<@#Максимальная диагональ Ноутбук<@>'))"
   ]
  },
  {
   "cell_type": "code",
   "execution_count": 69,
   "id": "5b7a1b9e-1f82-4a2d-9687-5edfc028bf09",
   "metadata": {},
   "outputs": [
    {
     "data": {
      "text/plain": [
       "('Оглавление: Органайзер для маскировки и защиты проводов\\nОписание: <@#Количество предметов в упаковке>1 шт<@> органайзер для маскировки и защиты проводов изготовлен из <@#Материал изделия>пластик; бамбук; abs-пластик<@>. Его <@#Ширина предмета>15.5 см<@> обеспечивает удобство использования. Произведено в <@#Страна производства>Китай<@>. Вес товара с упаковкой составляет <@#Вес товара с упаковкой (г)>600 г<@>, без упаковки - <@#Вес товара без упаковки (г)>500 г<@>. Комплектация включает в себя <@#Комплектация>короб органайзер для маскировки и защиты проводов - 1 шт<@>. Держатели проводов выполнены в виде <@#Тип держателей проводов>органайзер; лоток; защелка<@>.',\n",
       " ' Органайзер для маскировки и защиты проводов\\n',\n",
       " ' <@#Количество предметов в упаковке>1 шт<@> органайзер для маскировки и защиты проводов изготовлен из <@#Материал изделия>пластик; бамбук; abs-пластик<@>. Его <@#Ширина предмета>15.5 см<@> обеспечивает удобство использования. Произведено в <@#Страна производства>Китай<@>. Вес товара с упаковкой составляет <@#Вес товара с упаковкой (г)>600 г<@>, без упаковки - <@#Вес товара без упаковки (г)>500 г<@>. Комплектация включает в себя <@#Комплектация>короб органайзер для маскировки и защиты проводов - 1 шт<@>. Держатели проводов выполнены в виде <@#Тип держателей проводов>органайзер; лоток; защелка<@>.',\n",
       " {'Количество предметов в упаковке': '1 шт',\n",
       "  'Материал изделия': 'пластик; бамбук; abs-пластик',\n",
       "  'Ширина предмета': '15.5 см',\n",
       "  'Страна производства': 'Китай',\n",
       "  'Комплектация': 'короб органайзер для маскировки и защиты проводов - 1 шт',\n",
       "  'Вес товара с упаковкой (г)': '600 г',\n",
       "  'Вес товара без упаковки (г)': '500 г',\n",
       "  'Тип держателей проводов': 'органайзер; лоток; защелка'},\n",
       " [],\n",
       " [('Количество предметов в упаковке', '1 шт'),\n",
       "  ('Материал изделия', 'пластик; бамбук; abs-пластик'),\n",
       "  ('Ширина предмета', '15.5 см'),\n",
       "  ('Страна производства', 'Китай'),\n",
       "  ('Вес товара с упаковкой (г)', '600 г'),\n",
       "  ('Вес товара без упаковки (г)', '500 г'),\n",
       "  ('Комплектация', 'короб органайзер для маскировки и защиты проводов - 1 шт'),\n",
       "  ('Тип держателей проводов', 'органайзер; лоток; защелка')])"
      ]
     },
     "execution_count": 69,
     "metadata": {},
     "output_type": "execute_result"
    }
   ],
   "source": [
    "import re\n",
    "\n",
    "ids, texts, titles, descriptions, atrs, original_tag_t, tags_t, original_tag_d, tags_d = [],[],[],[],[],[],[],[],[]\n",
    "\n",
    "i = 3\n",
    "def split_bert_tags(s, atr, id):\n",
    "    title = bert_df.values[i][5].split('Оглавление:')[1]\n",
    "    title = title.split('Описание:')[0]\n",
    "    description = bert_df.values[i][5].split('Описание:')[1]\n",
    "\n",
    "    title_res = []\n",
    "    descr_res = []\n",
    "    title_ori = []\n",
    "    descr_ori = []\n",
    "\n",
    "    for tag in re.finditer('<@#[^>]+>[^<]+<@>', title):\n",
    "        res = check_tag(tag.group())\n",
    "        title_res.append(res)\n",
    "        title_ori.append(tag.group())\n",
    "        #print(tag.group(), tag.span(), res)\n",
    "    \n",
    "    for tag in re.finditer('<@#[^>]+>[^<]+<@>', description):\n",
    "        res = check_tag(tag.group())\n",
    "        descr_res.append(res)\n",
    "        descr_ori.append(tag.group())\n",
    "        #print(tag.group(), tag.span(), res)\n",
    "\n",
    "    ids.append(id)\n",
    "    texts.append(s)\n",
    "    titles.append(title)\n",
    "    descriptions.append(description)\n",
    "    atrs.append(atr)\n",
    "    tags_t.append(title_res)\n",
    "    tags_d.append(descr_res)\n",
    "    original_tag_t.append(title_ori)\n",
    "    original_tag_d.append(descr_ori)\n",
    "    #print(title_ori, descr_ori)\n",
    "\n",
    "    #print(title)\n",
    "    #print(description)\n",
    "    #print(atrs)\n",
    "\n",
    "    return(s,title,description,atr,title_res,descr_res)\n",
    "\n",
    "split_bert_tags(bert_df.values[i][5], bert_df.values[i][3], bert_df.values[i][1])"
   ]
  },
  {
   "cell_type": "code",
   "execution_count": 71,
   "id": "c7b324f5-31a8-4d7c-9e5f-e89e91db869a",
   "metadata": {},
   "outputs": [
    {
     "data": {
      "application/vnd.jupyter.widget-view+json": {
       "model_id": "864f4fac8a364a3584ab8ecbff8988d3",
       "version_major": 2,
       "version_minor": 0
      },
      "text/plain": [
       "  0%|          | 0/10003 [00:00<?, ?it/s]"
      ]
     },
     "metadata": {},
     "output_type": "display_data"
    },
    {
     "name": "stdout",
     "output_type": "stream",
     "text": [
      "10003 10003 10003 10003 10003 10003 10003 10003 10003\n"
     ]
    }
   ],
   "source": [
    "import re\n",
    "ids, texts, titles, descriptions, atrs, original_tag_t, tags_t, original_tag_d, tags_d = [], [], [], [],[],[],[],[],[]\n",
    "\n",
    "for i in tqdm(range(len(bert_df.values))):\n",
    "    split_bert_tags(bert_df.values[i][5], bert_df.values[i][3], bert_df.values[i][1])\n",
    "\n",
    "print(len(ids), len(texts), len(titles), len(descriptions), len(atrs), len(tags_t), len(tags_d), len(original_tag_t), len(original_tag_d))"
   ]
  },
  {
   "cell_type": "code",
   "execution_count": null,
   "id": "a8837e46-057f-4c4e-8669-ad776b5ce205",
   "metadata": {},
   "outputs": [],
   "source": [
    "i = 2\n",
    "\n",
    "print(ids[i])\n",
    "print(texts[i])\n",
    "print(titles[i])\n",
    "print(descriptions[i])\n",
    "print(atrs[i])\n",
    "print(tags_t[i])\n",
    "print(tags_d[i])\n",
    "print(original_tag_t[i])\n",
    "print(original_tag_d[i])\n",
    "print(len(tags_t[i]), len(tags_d[i]), texts[i].count('@')//2, len(atrs[i]))"
   ]
  },
  {
   "cell_type": "code",
   "execution_count": null,
   "id": "cee97ee6-d1b9-4629-b321-0bf907295a64",
   "metadata": {},
   "outputs": [],
   "source": [
    "cnt_answ = 0\n",
    "for i in range(10000):\n",
    "    cnt_t = len(tags_t[i]) + len(tags_d[i])\n",
    "    if cnt_t == len(atrs[i]):\n",
    "        print(i, len(tags_t[i]), len(tags_d[i]), texts[i].count('@')//2, len(atrs[i]))\n",
    "        cnt_answ+=1\n",
    "print(cnt_answ)"
   ]
  },
  {
   "cell_type": "markdown",
   "id": "cdf65216-aaea-4b0f-a6c7-8bc02b84cdc2",
   "metadata": {},
   "source": [
    "Need to check how simillar words in atrs and tags. https://www.newscatcherapi.com/blog/ultimate-guide-to-text-similarity-with-python\n",
    "\n",
    "\n",
    "First we check percentage wise it is atleast 50% of atrs (or we have at least 10 tags)\n",
    "\n",
    "If they are check how simillar words. If they are not don't add them to tags / don't add those examples"
   ]
  },
  {
   "cell_type": "code",
   "execution_count": 26,
   "id": "44250454-10ea-43e2-b719-43be41a6674a",
   "metadata": {},
   "outputs": [],
   "source": [
    "def jaccard_similarity(x,y):\n",
    "  \"\"\" returns the jaccard similarity between two lists \"\"\"\n",
    "  intersection_cardinality = len(set.intersection(*[set(x), set(y)]))\n",
    "  union_cardinality = len(set.union(*[set(x), set(y)]))\n",
    "  return intersection_cardinality/float(union_cardinality)"
   ]
  },
  {
   "cell_type": "code",
   "execution_count": 27,
   "id": "7a71f3ef-6626-4cb5-8516-eb36370172a5",
   "metadata": {},
   "outputs": [
    {
     "data": {
      "text/plain": [
       "0.2857142857142857"
      ]
     },
     "execution_count": 27,
     "metadata": {},
     "output_type": "execute_result"
    }
   ],
   "source": [
    "jaccard_similarity('отсутствует','нет')"
   ]
  },
  {
   "cell_type": "markdown",
   "id": "c48ed980-7ef3-49b2-aa4f-050549a4e047",
   "metadata": {},
   "source": [
    "## Generate for Saiga\n"
   ]
  },
  {
   "cell_type": "markdown",
   "id": "fba5341b-e095-4115-a448-6af16a3ed657",
   "metadata": {},
   "source": [
    "3000 на обычное извлечение\n",
    "\n",
    "\n",
    "2000 на частичное (по 3-5 атрибута)\n",
    "\n",
    "--------------------------------------\n",
    "\n",
    "2000 на обычное тестирование\n",
    "\n",
    "\n",
    "1000 на частичное тестирование"
   ]
  },
  {
   "cell_type": "code",
   "execution_count": 78,
   "id": "1bd4668b-814f-4813-80f8-798e370b510a",
   "metadata": {},
   "outputs": [],
   "source": [
    "i=2"
   ]
  },
  {
   "cell_type": "code",
   "execution_count": 58,
   "id": "19acf95a-6a73-49cc-b35b-09aadf8dc035",
   "metadata": {},
   "outputs": [
    {
     "name": "stdout",
     "output_type": "stream",
     "text": [
      "{'Модель': 'LS-77', 'Вид наушников': 'беспроводные; вставные; магнитные', 'Тип подключения': 'Bluetooth 5.0; без проводные; для смартфона', 'Совместимость': 'android; ios; андроид; Ноутбук/планшет; для IPhone; для пк; для детей; для взрослых; для подростков; для водителя', 'Тип крепления наушников': 'вкладыши; шейный ободок; внутриканальные', 'Тип акустического оформления': 'закрытые', 'Чувствительность': '106 дБ', 'Минимальная воспроизводимая частота': '20 Гц', 'Максимальная воспроизводимая частота': '20000 Гц', 'Импеданс': '20 Ом', 'Радиус беспроводной связи': '12 метров; Для бега; Для спорта', 'Разъем подключения наушников': 'microUSB', 'Беспроводные интерфейсы': 'Bluetooth; блютус', 'Доп. опции наушников': 'микрофон; шумоподавление; подвесные на шею', 'Емкость аккумулятора': '200 мА*ч', 'Время зарядки': '1.5 ч.', 'Время работы от аккумулятора': '20 ч.', 'Длина кабеля (м)': '0.25 м', 'Материал корпуса': 'abs-пластик', 'Степень пылевлагозащиты': 'влагостойкие; защита от пыли и влаги; защита от влаги', 'Гарантийный срок': '6 месяцев', 'Страна производства': 'Китай', 'Вес товара без упаковки (г)': '100 г', 'Вес товара с упаковкой (г)': '150 г', 'Диаметр мембраны': '5 мм', 'Глубина предмета': '20 см', 'Ширина предмета': '14 см', 'Высота предмета': '3 см', 'Комплектация': 'Наушники - 1 шт; кабель для зарядки - 1 шт', 'Длина упаковки': '21 см', 'Высота упаковки': '5 см', 'Ширина упаковки': '15 см'}\n"
     ]
    }
   ],
   "source": [
    "print('Модель' in atrs[0])"
   ]
  },
  {
   "cell_type": "code",
   "execution_count": 87,
   "id": "274c08b7-2595-42be-8d26-d94a8fe763dc",
   "metadata": {},
   "outputs": [],
   "source": [
    "def check_generated_regular(i):\n",
    "    a = []\n",
    "    text = texts[i]\n",
    "    cnt_t = len(tags_t[i]) + len(tags_d[i]) \n",
    "    if True:#cnt_t == texts[i].count('@')//2:\n",
    "        if cnt_t >= 10 or cnt_t >= len(atrs[i])*0.7:\n",
    "            for tag in tags_t[i]:\n",
    "                #print(tag)\n",
    "                if tag[0] in atrs[i] and tag[0] not in a:\n",
    "                    a.append((tag[0], atrs[i][tag[0]]))\n",
    "            for tag in tags_d[i]:\n",
    "                #print(tag)\n",
    "                if tag[0] in atrs[i] and tag[0] not in a:\n",
    "                    a.append((tag[0], atrs[i][tag[0]]))\n",
    "        if len(a) >= 10 or len(a) >= len(atrs[i])*0.7:\n",
    "            for j in range(len(original_tag_t[i])):\n",
    "                text = text.replace(original_tag_t[i][j], tags_t[i][j][1])\n",
    "            for j in range(len(original_tag_d[i])):\n",
    "                text = text.replace(original_tag_d[i][j], tags_d[i][j][1])\n",
    "            if '@' not in text:\n",
    "                return (True, text, a)\n",
    "            #else: \n",
    "            #    print(text)\n",
    "    #print(a)\n",
    "    return (False, texts[i], atrs[i])"
   ]
  },
  {
   "cell_type": "code",
   "execution_count": null,
   "id": "2784ca53-c452-464d-afdf-91ad5fd98eaa",
   "metadata": {},
   "outputs": [],
   "source": [
    "check_generated_regular(2)"
   ]
  },
  {
   "cell_type": "code",
   "execution_count": 90,
   "id": "8b875e9b-ed38-4048-94b2-4a6272a1397b",
   "metadata": {},
   "outputs": [
    {
     "data": {
      "application/vnd.jupyter.widget-view+json": {
       "model_id": "7efc01737f75435a9ff683762870c155",
       "version_major": 2,
       "version_minor": 0
      },
      "text/plain": [
       "  0%|          | 0/10003 [00:00<?, ?it/s]"
      ]
     },
     "metadata": {},
     "output_type": "display_data"
    },
    {
     "name": "stdout",
     "output_type": "stream",
     "text": [
      "8180\n"
     ]
    }
   ],
   "source": [
    "cnt_answ = 0\n",
    "for i in tqdm(range(10003)):\n",
    "    if check_generated_regular(i)[0] == True:\n",
    "        cnt_answ+=1\n",
    "print(cnt_answ)"
   ]
  },
  {
   "cell_type": "code",
   "execution_count": 91,
   "id": "2184890c-d2ec-440d-8960-27b5bbe1f4c6",
   "metadata": {},
   "outputs": [
    {
     "name": "stdout",
     "output_type": "stream",
     "text": [
      "8180 8180\n"
     ]
    }
   ],
   "source": [
    "data_text = []\n",
    "data_atrs = []\n",
    "for i in range(10003):\n",
    "    a = check_generated_regular(i)\n",
    "    if a[0] == True:\n",
    "        data_text.append(a[1])\n",
    "        data_atrs.append(a[2])\n",
    "print(len(data_text), len(data_atrs))"
   ]
  },
  {
   "cell_type": "code",
   "execution_count": 96,
   "id": "771ece43-a1f9-4fc8-ba8f-017b304043dc",
   "metadata": {},
   "outputs": [
    {
     "data": {
      "text/plain": [
       "'Оглавление: SSD накопитель Kingston SU750 256GB 2.5\" SATA 6Gb/s 3D NAND\\nОписание: SSD накопитель Kingston 256 ГБ 2.5\" SATA 6 Гбит/с с 3D NAND. Максимальная скорость чтения 550 Мб/с и записи 520 Мб/с. Гарантийный срок 36 мес.. Произведено в Китай. Размеры упаковки: длина - 10 см, ширина - 7 см, высота - 3 см.'"
      ]
     },
     "execution_count": 96,
     "metadata": {},
     "output_type": "execute_result"
    }
   ],
   "source": [
    "data_text[1000]"
   ]
  },
  {
   "cell_type": "code",
   "execution_count": 97,
   "id": "59c8aa51-12e6-4418-8ca5-d6f8cd75c91a",
   "metadata": {},
   "outputs": [
    {
     "data": {
      "text/plain": [
       "[('Модель', 'SU750'),\n",
       " ('Объем накопителя', '256 ГБ; 256 gb'),\n",
       " ('Форм-фактор накопителя', '2.5\"'),\n",
       " ('Интерфейс', 'SATA 6 Гбит/с'),\n",
       " ('Тип памяти накопителя', '3D NAND'),\n",
       " ('Максимальная скорость чтения', '550 Мб/с'),\n",
       " ('Максимальная скорость записи', '520 Мб/с'),\n",
       " ('Гарантийный срок', '36 мес.'),\n",
       " ('Страна производства', 'Китай'),\n",
       " ('Длина упаковки', '10 см'),\n",
       " ('Ширина упаковки', '7 см'),\n",
       " ('Высота упаковки', '3 см')]"
      ]
     },
     "execution_count": 97,
     "metadata": {},
     "output_type": "execute_result"
    }
   ],
   "source": [
    "data_atrs[1000]"
   ]
  },
  {
   "cell_type": "code",
   "execution_count": 98,
   "id": "afd97126-d587-45b8-a254-13302d44862c",
   "metadata": {},
   "outputs": [
    {
     "data": {
      "text/html": [
       "<div>\n",
       "<style scoped>\n",
       "    .dataframe tbody tr th:only-of-type {\n",
       "        vertical-align: middle;\n",
       "    }\n",
       "\n",
       "    .dataframe tbody tr th {\n",
       "        vertical-align: top;\n",
       "    }\n",
       "\n",
       "    .dataframe thead th {\n",
       "        text-align: right;\n",
       "    }\n",
       "</style>\n",
       "<table border=\"1\" class=\"dataframe\">\n",
       "  <thead>\n",
       "    <tr style=\"text-align: right;\">\n",
       "      <th></th>\n",
       "      <th>text</th>\n",
       "      <th>atrs</th>\n",
       "    </tr>\n",
       "  </thead>\n",
       "  <tbody>\n",
       "    <tr>\n",
       "      <th>0</th>\n",
       "      <td>Оглавление: Ноутбук 18 дюймов серебристого цве...</td>\n",
       "      <td>[(Максимальная диагональ ноутбука, 18 дюймов),...</td>\n",
       "    </tr>\n",
       "    <tr>\n",
       "      <th>1</th>\n",
       "      <td>Оглавление: Компьютер Star 2.0 V3 с процессоро...</td>\n",
       "      <td>[(Модель, Star 2.0 V3), (Тип накопителя, SSD),...</td>\n",
       "    </tr>\n",
       "    <tr>\n",
       "      <th>2</th>\n",
       "      <td>Оглавление: Органайзер для маскировки и защиты...</td>\n",
       "      <td>[(Количество предметов в упаковке, 1 шт), (Мат...</td>\n",
       "    </tr>\n",
       "    <tr>\n",
       "      <th>3</th>\n",
       "      <td>Оглавление: Органайзер для маскировки и защиты...</td>\n",
       "      <td>[(Количество предметов в упаковке, 1 шт), (Мат...</td>\n",
       "    </tr>\n",
       "    <tr>\n",
       "      <th>4</th>\n",
       "      <td>Оглавление: Органайзер для маскировки и защиты...</td>\n",
       "      <td>[(Количество предметов в упаковке, 1 шт), (Мат...</td>\n",
       "    </tr>\n",
       "    <tr>\n",
       "      <th>...</th>\n",
       "      <td>...</td>\n",
       "      <td>...</td>\n",
       "    </tr>\n",
       "    <tr>\n",
       "      <th>8175</th>\n",
       "      <td>Оглавление: Игровой коврик для мыши \"Черный 30...</td>\n",
       "      <td>[(Цвет, черный), (Размер коврика для мыши, 30х...</td>\n",
       "    </tr>\n",
       "    <tr>\n",
       "      <th>8176</th>\n",
       "      <td>Оглавление: Набор аксессуаров для зарядки \"Pow...</td>\n",
       "      <td>[(Материал изделия, пластик; мягкий ПВХ), (Шир...</td>\n",
       "    </tr>\n",
       "    <tr>\n",
       "      <th>8177</th>\n",
       "      <td>Оглавление: Кулер для процессора SE-207-XT ARG...</td>\n",
       "      <td>[(Модель, SE-207-XT ARGB), (Количество вентиля...</td>\n",
       "    </tr>\n",
       "    <tr>\n",
       "      <th>8178</th>\n",
       "      <td>Оглавление: Телевизор LT-65U900 65\" 4K UHD And...</td>\n",
       "      <td>[(Модель, LT-65U900), (Диагональ, 65\"), (Форма...</td>\n",
       "    </tr>\n",
       "    <tr>\n",
       "      <th>8179</th>\n",
       "      <td>Оглавление: Смартфон Apple iPhone 13 256GB бел...</td>\n",
       "      <td>[(Цвет, белый), (Стандарт связи, 3G; 4G (LTE);...</td>\n",
       "    </tr>\n",
       "  </tbody>\n",
       "</table>\n",
       "<p>8180 rows × 2 columns</p>\n",
       "</div>"
      ],
      "text/plain": [
       "                                                   text  \\\n",
       "0     Оглавление: Ноутбук 18 дюймов серебристого цве...   \n",
       "1     Оглавление: Компьютер Star 2.0 V3 с процессоро...   \n",
       "2     Оглавление: Органайзер для маскировки и защиты...   \n",
       "3     Оглавление: Органайзер для маскировки и защиты...   \n",
       "4     Оглавление: Органайзер для маскировки и защиты...   \n",
       "...                                                 ...   \n",
       "8175  Оглавление: Игровой коврик для мыши \"Черный 30...   \n",
       "8176  Оглавление: Набор аксессуаров для зарядки \"Pow...   \n",
       "8177  Оглавление: Кулер для процессора SE-207-XT ARG...   \n",
       "8178  Оглавление: Телевизор LT-65U900 65\" 4K UHD And...   \n",
       "8179  Оглавление: Смартфон Apple iPhone 13 256GB бел...   \n",
       "\n",
       "                                                   atrs  \n",
       "0     [(Максимальная диагональ ноутбука, 18 дюймов),...  \n",
       "1     [(Модель, Star 2.0 V3), (Тип накопителя, SSD),...  \n",
       "2     [(Количество предметов в упаковке, 1 шт), (Мат...  \n",
       "3     [(Количество предметов в упаковке, 1 шт), (Мат...  \n",
       "4     [(Количество предметов в упаковке, 1 шт), (Мат...  \n",
       "...                                                 ...  \n",
       "8175  [(Цвет, черный), (Размер коврика для мыши, 30х...  \n",
       "8176  [(Материал изделия, пластик; мягкий ПВХ), (Шир...  \n",
       "8177  [(Модель, SE-207-XT ARGB), (Количество вентиля...  \n",
       "8178  [(Модель, LT-65U900), (Диагональ, 65\"), (Форма...  \n",
       "8179  [(Цвет, белый), (Стандарт связи, 3G; 4G (LTE);...  \n",
       "\n",
       "[8180 rows x 2 columns]"
      ]
     },
     "execution_count": 98,
     "metadata": {},
     "output_type": "execute_result"
    }
   ],
   "source": [
    "wb_data = {\n",
    "    'text':data_text,\n",
    "    'atrs':data_atrs\n",
    "}\n",
    "wb_df = pd.DataFrame(wb_data)\n",
    "\n",
    "wb_df"
   ]
  },
  {
   "cell_type": "code",
   "execution_count": 99,
   "id": "c31db1e5-51b2-4b86-85f1-ae38bf8f3ce6",
   "metadata": {},
   "outputs": [],
   "source": [
    "from sklearn.model_selection import train_test_split\n",
    "\n",
    "train, test = train_test_split(wb_df, test_size=0.375)"
   ]
  },
  {
   "cell_type": "code",
   "execution_count": null,
   "id": "93731b45-8b13-4901-a4fb-e900e0bdfdf2",
   "metadata": {},
   "outputs": [],
   "source": [
    "train = train[:5000]\n",
    "train"
   ]
  },
  {
   "cell_type": "code",
   "execution_count": null,
   "id": "213b9427-aaa7-4d02-ad7e-59f075a8c22e",
   "metadata": {},
   "outputs": [],
   "source": [
    "test = test[:3000]\n",
    "test"
   ]
  },
  {
   "cell_type": "code",
   "execution_count": 165,
   "id": "74ec7871-8ea4-4e40-a076-d766719773ed",
   "metadata": {},
   "outputs": [],
   "source": [
    "train_full, train_part = train_test_split(train, test_size=0.4)\n",
    "test_full, test_part = train_test_split(test, test_size=1/3)"
   ]
  },
  {
   "cell_type": "code",
   "execution_count": 166,
   "id": "0f9532bf-23fe-4dd9-81dd-47d8c48c461a",
   "metadata": {},
   "outputs": [
    {
     "data": {
      "text/html": [
       "<div>\n",
       "<style scoped>\n",
       "    .dataframe tbody tr th:only-of-type {\n",
       "        vertical-align: middle;\n",
       "    }\n",
       "\n",
       "    .dataframe tbody tr th {\n",
       "        vertical-align: top;\n",
       "    }\n",
       "\n",
       "    .dataframe thead th {\n",
       "        text-align: right;\n",
       "    }\n",
       "</style>\n",
       "<table border=\"1\" class=\"dataframe\">\n",
       "  <thead>\n",
       "    <tr style=\"text-align: right;\">\n",
       "      <th></th>\n",
       "      <th>text</th>\n",
       "      <th>atrs</th>\n",
       "    </tr>\n",
       "  </thead>\n",
       "  <tbody>\n",
       "    <tr>\n",
       "      <th>500</th>\n",
       "      <td>Оглавление: Компьютер \"Игровой домашний\" с про...</td>\n",
       "      <td>[(Тип накопителя, SSD), (Объем накопителя SSD,...</td>\n",
       "    </tr>\n",
       "    <tr>\n",
       "      <th>7359</th>\n",
       "      <td>Оглавление: Ламинатор \"Профи 230\"\\nОписание: Л...</td>\n",
       "      <td>[(Материал корпуса, пластик), (Страна производ...</td>\n",
       "    </tr>\n",
       "    <tr>\n",
       "      <th>5385</th>\n",
       "      <td>Оглавление: Лазерный картридж совместимый TN-2...</td>\n",
       "      <td>[(Модель, TN-2075; TN-2085), (Количество предм...</td>\n",
       "    </tr>\n",
       "    <tr>\n",
       "      <th>3734</th>\n",
       "      <td>Оглавление: Компьютер Delta SSD 512 Гб с проце...</td>\n",
       "      <td>[(Модель, Delta), (Объем накопителя SSD, 512 Г...</td>\n",
       "    </tr>\n",
       "    <tr>\n",
       "      <th>4467</th>\n",
       "      <td>Оглавление: Блок питания 12В 1А штекер 5,5 на ...</td>\n",
       "      <td>[(Количество вентиляторов в комплекте, нет), (...</td>\n",
       "    </tr>\n",
       "    <tr>\n",
       "      <th>...</th>\n",
       "      <td>...</td>\n",
       "      <td>...</td>\n",
       "    </tr>\n",
       "    <tr>\n",
       "      <th>7266</th>\n",
       "      <td>Оглавление: Смартфон Oppo A38 черного цвета\\nО...</td>\n",
       "      <td>[(Модель, A38), (Диагональ экрана, 6.56\"), (Ра...</td>\n",
       "    </tr>\n",
       "    <tr>\n",
       "      <th>6287</th>\n",
       "      <td>Оглавление: Игровая консоль PlayStation с пода...</td>\n",
       "      <td>[(Количество игр в комплекте, 1), (Серия игров...</td>\n",
       "    </tr>\n",
       "    <tr>\n",
       "      <th>5866</th>\n",
       "      <td>Оглавление: Портативный термопринтер мини форм...</td>\n",
       "      <td>[(Модель, мини принтер; портативный принтер; т...</td>\n",
       "    </tr>\n",
       "    <tr>\n",
       "      <th>4560</th>\n",
       "      <td>Оглавление: Игровая консоль PlayStation с пода...</td>\n",
       "      <td>[(Количество игр в комплекте, 1), (Серия игров...</td>\n",
       "    </tr>\n",
       "    <tr>\n",
       "      <th>5263</th>\n",
       "      <td>Оглавление: Внутренний SSD 2 ТБ NV7000, PCIe x...</td>\n",
       "      <td>[(Комплектация, Внутренний SSD 2 ТБ NV7000, PC...</td>\n",
       "    </tr>\n",
       "  </tbody>\n",
       "</table>\n",
       "<p>2000 rows × 2 columns</p>\n",
       "</div>"
      ],
      "text/plain": [
       "                                                   text  \\\n",
       "500   Оглавление: Компьютер \"Игровой домашний\" с про...   \n",
       "7359  Оглавление: Ламинатор \"Профи 230\"\\nОписание: Л...   \n",
       "5385  Оглавление: Лазерный картридж совместимый TN-2...   \n",
       "3734  Оглавление: Компьютер Delta SSD 512 Гб с проце...   \n",
       "4467  Оглавление: Блок питания 12В 1А штекер 5,5 на ...   \n",
       "...                                                 ...   \n",
       "7266  Оглавление: Смартфон Oppo A38 черного цвета\\nО...   \n",
       "6287  Оглавление: Игровая консоль PlayStation с пода...   \n",
       "5866  Оглавление: Портативный термопринтер мини форм...   \n",
       "4560  Оглавление: Игровая консоль PlayStation с пода...   \n",
       "5263  Оглавление: Внутренний SSD 2 ТБ NV7000, PCIe x...   \n",
       "\n",
       "                                                   atrs  \n",
       "500   [(Тип накопителя, SSD), (Объем накопителя SSD,...  \n",
       "7359  [(Материал корпуса, пластик), (Страна производ...  \n",
       "5385  [(Модель, TN-2075; TN-2085), (Количество предм...  \n",
       "3734  [(Модель, Delta), (Объем накопителя SSD, 512 Г...  \n",
       "4467  [(Количество вентиляторов в комплекте, нет), (...  \n",
       "...                                                 ...  \n",
       "7266  [(Модель, A38), (Диагональ экрана, 6.56\"), (Ра...  \n",
       "6287  [(Количество игр в комплекте, 1), (Серия игров...  \n",
       "5866  [(Модель, мини принтер; портативный принтер; т...  \n",
       "4560  [(Количество игр в комплекте, 1), (Серия игров...  \n",
       "5263  [(Комплектация, Внутренний SSD 2 ТБ NV7000, PC...  \n",
       "\n",
       "[2000 rows x 2 columns]"
      ]
     },
     "execution_count": 166,
     "metadata": {},
     "output_type": "execute_result"
    }
   ],
   "source": [
    "test_full"
   ]
  },
  {
   "cell_type": "code",
   "execution_count": 167,
   "id": "35296003-815b-45f8-b4d3-826ac8b09f67",
   "metadata": {},
   "outputs": [],
   "source": [
    "test_part_atrs = []\n",
    "for i in test_part['atrs'].values:\n",
    "    test_part_atrs.append(i[:5])\n",
    "test_part['new_atrs'] = test_part_atrs"
   ]
  },
  {
   "cell_type": "code",
   "execution_count": 168,
   "id": "5a59f122-43cd-41fc-99fc-906d87d846e6",
   "metadata": {},
   "outputs": [],
   "source": [
    "train_part_atrs = []\n",
    "for i in train_part['atrs'].values:\n",
    "    train_part_atrs.append(i[:5])\n",
    "train_part['new_atrs'] = train_part_atrs"
   ]
  },
  {
   "cell_type": "code",
   "execution_count": 169,
   "id": "a36f5632-d19e-41a2-9acc-1ee548b8ccc4",
   "metadata": {},
   "outputs": [],
   "source": [
    "system = 'Ты алгоритм высокого уровня, для извлечения информации об атрибутах товара из его описания.'\n",
    "full_pmt = 'Извлеки атрибуты товара в формате json из описания и оглавления продукта на маркетплейсе. В ответ выведи атрибуты товара и их значения.'\n",
    "part_pmt_1 = 'Извлеки атрибуты товара в формате json из описания и оглавления продукта на маркетплейсе. В ответ выведи атрибуты товара и их значения. Выдели только следующие атрибуты:'\n",
    "part_pmt_2 = 'Если данный атрибут не представлен в тексте, напиши вместо его значения \"n/a\".'"
   ]
  },
  {
   "cell_type": "code",
   "execution_count": 181,
   "id": "2cb706bc-fdaf-4190-9bb2-5be53b6ead88",
   "metadata": {},
   "outputs": [],
   "source": [
    "sys, us, bot = [], [], []\n",
    "for i in range(len(train_full)):\n",
    "    sys.append(system)\n",
    "    us.append(full_pmt + '\\n' + train_full['text'].values[i])\n",
    "    bot.append(str(train_full['atrs'].values[i]))"
   ]
  },
  {
   "cell_type": "code",
   "execution_count": 186,
   "id": "c1c0e8f3-383d-4cfc-a65a-e9638be9e211",
   "metadata": {},
   "outputs": [],
   "source": [
    "sys, us, bot = [], [], []\n",
    "for i in range(len(test_full)):\n",
    "    sys.append(system)\n",
    "    us.append(full_pmt + '\\n' + test_full['text'].values[i])\n",
    "    bot.append(str(test_full['atrs'].values[i]))"
   ]
  },
  {
   "cell_type": "code",
   "execution_count": 182,
   "id": "696c3728-1c94-430a-b5b1-cb14661ee015",
   "metadata": {},
   "outputs": [],
   "source": [
    "#sys, us, bot = [], [], []\n",
    "for i in range(len(train_part)):\n",
    "    s = ''\n",
    "    for j in train_part['new_atrs'].values[i]:\n",
    "        s = s + j[0] + \", \"\n",
    "    s = s[:-2] + \".\\n\"\n",
    "    sys.append(system)\n",
    "    us.append(part_pmt_1 + s + part_pmt_2 + '\\n' + train_part['text'].values[i])\n",
    "    bot.append(str(train_part['atrs'].values[i]))"
   ]
  },
  {
   "cell_type": "code",
   "execution_count": 187,
   "id": "58cb438c-f0ee-429c-8cba-9c65143692aa",
   "metadata": {},
   "outputs": [],
   "source": [
    "#sys, us, bot = [], [], []\n",
    "for i in range(len(test_part)):\n",
    "    s = ''\n",
    "    for j in test_part['new_atrs'].values[i]:\n",
    "        s = s + j[0] + \", \"\n",
    "    s = s[:-2] + \".\\n\"\n",
    "    sys.append(system)\n",
    "    us.append(part_pmt_1 + s + part_pmt_2 + '\\n' + test_part['text'].values[i])\n",
    "    bot.append(str(test_part['atrs'].values[i]))"
   ]
  },
  {
   "cell_type": "code",
   "execution_count": 188,
   "id": "2458b696-4975-49d3-9dfa-e7418d84fd41",
   "metadata": {},
   "outputs": [
    {
     "data": {
      "text/plain": [
       "3000"
      ]
     },
     "execution_count": 188,
     "metadata": {},
     "output_type": "execute_result"
    }
   ],
   "source": [
    "len(sys)"
   ]
  },
  {
   "cell_type": "code",
   "execution_count": 189,
   "id": "305c0a8d-7349-486b-9c6d-073935a2462f",
   "metadata": {},
   "outputs": [],
   "source": [
    "a_data = {\n",
    "    'system':sys,\n",
    "    'user':us,\n",
    "    'bot':bot\n",
    "}\n",
    "\n",
    "a_json = pd.DataFrame(a_data)"
   ]
  },
  {
   "cell_type": "code",
   "execution_count": 190,
   "id": "30a678f3-b332-483c-8c95-1b7ec2fb7d1d",
   "metadata": {},
   "outputs": [],
   "source": [
    "from json import loads, dumps\n",
    "result = a_json.to_json(orient=\"records\")\n",
    "parsed = loads(result)\n",
    "#dumps(parsed, indent=4)\n",
    "with open('D:/wb_scraped/val.json', 'w', encoding='UTF-8') as file:\n",
    "        json.dump(parsed, file, indent=2, ensure_ascii=False)"
   ]
  },
  {
   "cell_type": "markdown",
   "id": "f714c3ba-b6b4-433a-af8a-5c87d55a7f1b",
   "metadata": {
    "jp-MarkdownHeadingCollapsed": true
   },
   "source": [
    "## Discriminator"
   ]
  },
  {
   "cell_type": "code",
   "execution_count": null,
   "id": "701d136a-34f8-4ad1-9989-18a5da577c06",
   "metadata": {},
   "outputs": [],
   "source": []
  },
  {
   "cell_type": "markdown",
   "id": "cd629cbd-4d4e-40fa-afa0-6b1a2ddf267c",
   "metadata": {},
   "source": [
    "22 мм -> 22 мм\n",
    "22мм -> мм\n",
    "22mm -> 22 мм\n",
    "22 mm -> 22 мм"
   ]
  },
  {
   "cell_type": "code",
   "execution_count": 17,
   "id": "d800dfe1-4704-42f9-874d-b2cb7654f024",
   "metadata": {},
   "outputs": [],
   "source": [
    "def check_in_string(string, value):\n",
    "    if value in string:\n",
    "        return (string.find(value), string.find(value)+len(value))\n",
    "    return -1"
   ]
  },
  {
   "cell_type": "code",
   "execution_count": 27,
   "id": "27fef60e-2ada-4fa5-a85d-45f36c3acdb1",
   "metadata": {},
   "outputs": [
    {
     "name": "stdout",
     "output_type": "stream",
     "text": [
      "Музыкальная колонка  Радио Электроника\n"
     ]
    }
   ],
   "source": [
    "print(df_csv.values[0][1],df_csv.values[0][3],df_csv.values[0][4])"
   ]
  },
  {
   "cell_type": "code",
   "execution_count": 11,
   "id": "fc5fb251-dc7c-4d3c-8a98-e3915b148ebf",
   "metadata": {},
   "outputs": [
    {
     "data": {
      "text/plain": [
       "array([100009297, 'Автомобиль \"Космос\" АКЦИЯ 7166-505933',\n",
       "       'У вас растёт маленький гонщик? Подарите юному автолюбителю настоящий \"Космомобиль\". С такой игрушкой исполнится заветное желание малыша: он не просто сядет за руль машины, а почувствует себя пилотом космического судна.С помощью дистанционного пульта взрослые будут контролировать перемещение начинающего автомобилиста. А если малыш уже достаточно подрос, он сможет самостоятельно управлять машинкой с помощью руля и педали.Радиоуправляемый электромобиль Космос окрашен в яркие цвета и имеет неповторимый космический дизайн. Электромобиль оснащен ручным бластером.Особенности моделиСветовые эффекты: горят фары и поворотники;Звуковые эффекты: гудок и мелодии;Функциональные характеристикиМаксимальная нагрузка: 30 кг;Максимальная скорость: 3,4 км/ч;Время работы: до 2 часов работыВремя подзарядки: 8-15 часовАккумулятор: 6V1000mA;Один мотор;Товар предназначен для детей от 1года.Внимания: аккумулятор в комплект не входит .',\n",
       "       'Электромобили', 'Электротранспорт',\n",
       "       {'Цвет': 'серебристый', 'Материал рамы/основания': 'пластик', 'Страна производства': 'Китай', 'Длина упаковки': '20 см', 'Высота упаковки': '20 см', 'Ширина упаковки': '20 см'},\n",
       "       list([{'name': 'Цвет', 'value': 'серебристый', 'is_variable': True, 'charc_type': 1, 'variable_values': ['серебристый']}, {'name': 'Материал рамы/основания', 'value': 'пластик', 'charc_type': 1}, {'name': 'Страна производства', 'value': 'Китай', 'charc_type': 1}, {'name': 'Длина упаковки', 'value': '20 см'}, {'name': 'Высота упаковки', 'value': '20 см'}, {'name': 'Ширина упаковки', 'value': '20 см'}]),\n",
       "       list([{'group_name': 'Основная информация', 'options': [{'name': 'Цвет', 'value': 'серебристый', 'is_variable': True, 'charc_type': 1, 'variable_values': ['серебристый']}]}, {'group_name': 'Дополнительная информация', 'options': [{'name': 'Материал рамы/основания', 'value': 'пластик', 'charc_type': 1}, {'name': 'Страна производства', 'value': 'Китай', 'charc_type': 1}]}, {'group_name': 'Габариты', 'options': [{'name': 'Длина упаковки', 'value': '20 см'}, {'name': 'Высота упаковки', 'value': '20 см'}, {'name': 'Ширина упаковки', 'value': '20 см'}]}]),\n",
       "       'https://www.wildberries.ru/catalog/100009297/detail.aspx'],\n",
       "      dtype=object)"
      ]
     },
     "execution_count": 11,
     "metadata": {},
     "output_type": "execute_result"
    }
   ],
   "source": [
    "df_csv.values[0]"
   ]
  },
  {
   "cell_type": "code",
   "execution_count": 21,
   "id": "3e643532-d4e2-4dbb-b5a1-fcf1c27d24f0",
   "metadata": {},
   "outputs": [
    {
     "data": {
      "text/plain": [
       "'Радиоприемник от сети и на батарейках, портативная колонка беспроводная аудиотехника и электроника. Приемник радио колонка оснащена необходимыми слотами для передачи аудио файлов: порт USB, слот для карты microSD, разъем AUX (для подключения смартфона, планшета, mp3 плеера по кабелю jack 3.5). Встроенный аккумулятор позволит пользоваться ретро радио без подзарядки до 5 часов. В мп3 плеер с блютуз присутствуют такие функции как: FM, AM, SW 1-2 карта памяти поддержка Mp3, USB вход, SD TF карт для прослушивания музыки (флеш-накопитель и карта памяти не предусмотрены в комплекте, только разъёмы для них) AUX, Bluetooth, подсветка, ремешок, Светодиодный фонарик, встроенный сбоку корпуса. Питание: аккумулятор или 2R20 или 220V. Телескопическая антенна. ТВ, Аудио, Фото, Видео техника. Аналоговая регулировка громкости и радиоволн,батарейки в комплект не входят. Корпус пластик. Мощный динамик. '"
      ]
     },
     "execution_count": 21,
     "metadata": {},
     "output_type": "execute_result"
    }
   ],
   "source": [
    "df_csv.values[0][2]"
   ]
  },
  {
   "cell_type": "code",
   "execution_count": 24,
   "id": "be59e912-18e1-478f-a594-936f5fa80a04",
   "metadata": {},
   "outputs": [
    {
     "data": {
      "text/plain": [
       "{'Тип радио': 'аналоговое; Переносной; Портативный с Bluetooth',\n",
       " 'Тип тюнера': 'AM; FM',\n",
       " 'Питание': 'От сети , От батареек',\n",
       " 'Типоразмер элемента питания': 'Батарейки (в комплект не входят)',\n",
       " 'Время непрерывной автономной работы': '5 часов',\n",
       " 'Тип антенны': 'Телескопическая поворотная антенна',\n",
       " 'Высота предмета': '12 см',\n",
       " 'Ширина предмета': '17 см',\n",
       " 'Глубина предмета': '6 см',\n",
       " 'Доп. опции радио': 'bluetooth; USB flash и microSD; фонарик',\n",
       " 'Разъем подключения наушников': 'AUX (3,5 мм джек)',\n",
       " 'Мощность одного динамика': '5 Вт',\n",
       " 'Комплектация': 'Ретро колонка 1шт.',\n",
       " 'Страна производства': 'Китай',\n",
       " 'Вес товара с упаковкой (г)': '300 г',\n",
       " 'Длина упаковки': '8 см',\n",
       " 'Высота упаковки': '13 см',\n",
       " 'Ширина упаковки': '19 см'}"
      ]
     },
     "execution_count": 24,
     "metadata": {},
     "output_type": "execute_result"
    }
   ],
   "source": [
    "df_csv.values[0][5]"
   ]
  },
  {
   "cell_type": "code",
   "execution_count": 37,
   "id": "93bc41ef-d1df-4806-a19b-118ebbf2f914",
   "metadata": {},
   "outputs": [
    {
     "data": {
      "text/plain": [
       "(291, 292)"
      ]
     },
     "execution_count": 37,
     "metadata": {},
     "output_type": "execute_result"
    }
   ],
   "source": [
    "check_in_string(description, '5')"
   ]
  },
  {
   "cell_type": "code",
   "execution_count": 45,
   "id": "033a9e95-59f1-499b-b172-60b1ad9d0ed7",
   "metadata": {},
   "outputs": [
    {
     "name": "stdout",
     "output_type": "stream",
     "text": [
      "Название Камера видеонаблюдения домашняя wifi ip для умного дома\n",
      "Описание Мы обеспечиваем круглосуточную поддержку 24/7 и даем полную гарантию на 2 года! Бесплатная помощь в настройке и подключении, консультация по всем вопросам, контакты указаны в гарантийном талоне. Наша домашняя mini видеокамера Цифроника – это идеальное решение для защиты и скрытой съемки Вашего дома. Она управляется с телефона, планшета, компьютера в приложении YCC365, YCC365 Plus (на русском языке) из любой точки мира! Все изображения передаются с высокой точностью, разрешение видео 1920х1080 px (Full HD), 25 кадров в секунду, угол обзора может охватить помещение площадью до 30 кв.м. Днем и ночью охранная камера ведет бесперебойное видеонаблюдение - в ночном режиме инфракрасная подсветка достигает 10 метров. Подключается для съемки к нескольким телефонам одновременно, и в одно приложение можно добавить сразу несколько устройств, доступным на Android (андроид), IOS (айос) и Windows. Вы сможете полностью контролировать процесс видеонаблюдения через телефон, планшет или компьютер. Также будете получать уведомления в виде смс о движениях и звуках, и сможете вести запись видео в фотопленку смартфона или на карту памяти MicroSD не менее 10-го класса скорости, до 128 ГБ (облачное хранилище оплачивается только иностранными картами на данный момент). IP wi fi камера оснащена системой безопасности в умном доме, в устройство встроен датчик движения, также ip camera имеет инфракрасную подсветку, благодаря которой наблюдение за территорией ведется не только днем, но и ночью до 15 метров. В системе видеонаблюдения имеется тревожный сигнал, который, в случае необходимости, спугнет громкой сиреной нарушителя с вашей территории. Камера видеонаблюдения для дома через телефон со звуком. Мини камера видеонаблюдения сочетает в себе передовые технологии и прочный корпус с простотой использования, что обеспечивает высочайшую надежность и долговечность. Отслеживайте все события внутри вашего дома на все 360 градусов в режиме реального времени через Wi-Fi.  Обращаем Ваше внимание, данная модель работает с WI-FI только с 2G (НЕ работает с 5G), без интернета записывает на карту памяти. Эта беспроводная видеокамера идеально подходит для использования в домашних условиях, но Вы можете брать её с собой и на улицу, подключая камеру через повербанк. Никаких сложных настроек – просто подключите ее к вашей домашней сети за 3 минуты в приложении и начинайте использовать! Кроме того, благодаря скрытому дизайну, она идеально маскируется в любом интерьере, позволяя вам незаметно следить за происходящим. Камера ночного видения –отличный подарок семье, родителям, бабушке и дедушке на дачу, коллеге, другу или мужу на день рождения. Благодаря видеонаблюдению Вы всегда будете в курсе происходящего, даже если находитесь далеко от места событий, а поворотный механизм позволит охватить все 360°. Если после покупки вай фай камеры у Вас останутся вопросы или трудности, то наша служба заботы оперативно поможет 24/7 (мы работаем для Вас без выходных).\n",
      "С любовью и заботой, команда ЦИФРОНИКА!\n",
      "\n",
      "Количество камер\n",
      "\t\\ 1\n",
      "В названии: -1 \n",
      "В оглавлении (488, 489)\n",
      "\n",
      "\n",
      "Модель\n",
      "\t\\ Видеоняня; Домашняя мини камера видеонаблюдения; скрытая камера\n",
      "В названии: -1 \n",
      "В оглавлении -1\n",
      "\n",
      "\n",
      "Стандарт видеокамеры\n",
      "\t\\ IP; мини камера; Wi Fi камера видеонаблюдения\n",
      "В названии: -1 \n",
      "В оглавлении -1\n",
      "\n",
      "\n",
      "Исполнение камеры видеонаблюдения\n",
      "\t\\ поворотная; внутренняя; Видеоняня\n",
      "В названии: -1 \n",
      "В оглавлении -1\n",
      "\n",
      "\n",
      "Угол обзора камеры\n",
      "\t\\ 360 градусов\n",
      "В названии: -1 \n",
      "В оглавлении (1913, 1925)\n",
      "\n",
      "\n",
      "Разрешение HD\n",
      "\t\\ 1920x1080; Full HD; SD\n",
      "В названии: -1 \n",
      "В оглавлении -1\n",
      "\n",
      "\n",
      "Разрешение (видео)\n",
      "\t\\ 1920х1080\n",
      "В названии: -1 \n",
      "В оглавлении (488, 497)\n",
      "\n",
      "\n",
      "Максимальное фокусное расстояние\n",
      "\t\\ 3.6 мм\n",
      "В названии: -1 \n",
      "В оглавлении -1\n",
      "\n",
      "\n",
      "Дистанция ночной съемки\n",
      "\t\\ 10 м\n",
      "В названии: -1 \n",
      "В оглавлении (707, 711)\n",
      "\n",
      "\n",
      "Встроенный динамик\n",
      "\t\\ Да; встроенный микрофон; есть\n",
      "В названии: -1 \n",
      "В оглавлении -1\n",
      "\n",
      "\n",
      "Формат сжатия видео\n",
      "\t\\ H264\n",
      "В названии: -1 \n",
      "В оглавлении -1\n",
      "\n",
      "\n",
      "Скорость передачи видео\n",
      "\t\\ 100 Мбит/с\n",
      "В названии: -1 \n",
      "В оглавлении -1\n",
      "\n",
      "\n",
      "Размер матрицы\n",
      "\t\\ 2 МП\n",
      "В названии: -1 \n",
      "В оглавлении -1\n",
      "\n",
      "\n",
      "Тип матрицы\n",
      "\t\\ CMOS\n",
      "В названии: -1 \n",
      "В оглавлении -1\n",
      "\n",
      "\n",
      "Поддержка сетей 5 ГГц\n",
      "\t\\ нет; Внимание! Камера не работает с 5G частотой Wi-Fi (только 2.4 Ghz)\n",
      "В названии: -1 \n",
      "В оглавлении -1\n",
      "\n",
      "\n",
      "Поддержка ONVIF\n",
      "\t\\ нет\n",
      "В названии: -1 \n",
      "В оглавлении (1589, 1592)\n",
      "\n",
      "\n",
      "Поддержка карт памяти\n",
      "\t\\ microSD; до 128 ГБ\n",
      "В названии: -1 \n",
      "В оглавлении -1\n",
      "\n",
      "\n",
      "Объем встроенной памяти (Гб)\n",
      "\t\\ нет\n",
      "В названии: -1 \n",
      "В оглавлении (1589, 1592)\n",
      "\n",
      "\n",
      "Емкость аккумулятора\n",
      "\t\\ аккумулятор отсутствует; работает только в розетку или повербанка (внешнего аккумулятора)\n",
      "В названии: -1 \n",
      "В оглавлении -1\n",
      "\n",
      "\n",
      "Максимальная рабочая влажность\n",
      "\t\\ 90 %\n",
      "В названии: -1 \n",
      "В оглавлении -1\n",
      "\n",
      "\n",
      "Минимальная рабочая температура\n",
      "\t\\ -15 градусов\n",
      "В названии: -1 \n",
      "В оглавлении -1\n",
      "\n",
      "\n",
      "Максимальная рабочая температура\n",
      "\t\\ 50 градусов\n",
      "В названии: -1 \n",
      "В оглавлении -1\n",
      "\n",
      "\n",
      "Доп. опции камеры\n",
      "\t\\ Датчик движения; Встроенный микрофон и динамик; Обнаружение камерой человека в кадре\n",
      "В названии: -1 \n",
      "В оглавлении -1\n",
      "\n",
      "\n",
      "Диаметр объектива\n",
      "\t\\ 2.8 мм\n",
      "В названии: -1 \n",
      "В оглавлении -1\n",
      "\n",
      "\n",
      "Сетевые протоколы\n",
      "\t\\ RTSP/P2P\n",
      "В названии: -1 \n",
      "В оглавлении -1\n",
      "\n",
      "\n",
      "Количество каналов записи\n",
      "\t\\ 3\n",
      "В названии: -1 \n",
      "В оглавлении (366, 367)\n",
      "\n",
      "\n",
      "Количество портов HDMI\n",
      "\t\\ нет\n",
      "В названии: -1 \n",
      "В оглавлении (1589, 1592)\n",
      "\n",
      "\n",
      "Количество портов USB\n",
      "\t\\ нет\n",
      "В названии: -1 \n",
      "В оглавлении (1589, 1592)\n",
      "\n",
      "\n",
      "Встроенный картридер\n",
      "\t\\ да; MicroSD; слот для карты памяти\n",
      "В названии: -1 \n",
      "В оглавлении -1\n",
      "\n",
      "\n",
      "Питание\n",
      "\t\\ 5 В/2 А; USB; от аккумулятора\n",
      "В названии: -1 \n",
      "В оглавлении -1\n",
      "\n",
      "\n",
      "Гарантийный срок\n",
      "\t\\ 2 года\n",
      "В названии: -1 \n",
      "В оглавлении (72, 78)\n",
      "\n",
      "\n",
      "Страна производства\n",
      "\t\\ Китай\n",
      "В названии: -1 \n",
      "В оглавлении -1\n",
      "\n",
      "\n",
      "Комплектация\n",
      "\t\\ wifi видеокамера; сетевой адаптер; Крепеж для стены; Инструкция на русском языке; провод microUSB\n",
      "В названии: -1 \n",
      "В оглавлении -1\n",
      "\n",
      "\n",
      "Вес с упаковкой (кг)\n",
      "\t\\ 0.35 кг\n",
      "В названии: -1 \n",
      "В оглавлении -1\n",
      "\n",
      "\n",
      "Стандарт видеосигнала\n",
      "\t\\ IP-камера с подключением по Wi-Fi\n",
      "В названии: -1 \n",
      "В оглавлении -1\n",
      "\n",
      "\n",
      "Видеоформат\n",
      "\t\\ H.264; MPEG\n",
      "В названии: -1 \n",
      "В оглавлении -1\n",
      "\n",
      "\n",
      "Возможность крепления на стену\n",
      "\t\\ да; есть; крепление на стену в комплекте\n",
      "В названии: -1 \n",
      "В оглавлении -1\n",
      "\n",
      "\n",
      "Защита от вскрытия\n",
      "\t\\ IP66; системы видеонаблюдения; скрытая, шпионская камера с гарантийном пломбой\n",
      "В названии: -1 \n",
      "В оглавлении -1\n",
      "\n",
      "\n",
      "Материал корпуса\n",
      "\t\\ abs-пластик; прочный пластик\n",
      "В названии: -1 \n",
      "В оглавлении -1\n",
      "\n",
      "\n",
      "Высота предмета\n",
      "\t\\ 10 см\n",
      "В названии: -1 \n",
      "В оглавлении -1\n",
      "\n",
      "\n",
      "Глубина предмета\n",
      "\t\\ 6 см\n",
      "В названии: -1 \n",
      "В оглавлении -1\n",
      "\n",
      "\n",
      "Ширина предмета\n",
      "\t\\ 7 см\n",
      "В названии: -1 \n",
      "В оглавлении -1\n",
      "\n",
      "\n",
      "Вес без упаковки (кг)\n",
      "\t\\ 0.2 кг\n",
      "В названии: -1 \n",
      "В оглавлении -1\n",
      "\n",
      "\n",
      "Длина упаковки\n",
      "\t\\ 9 см\n",
      "В названии: -1 \n",
      "В оглавлении -1\n",
      "\n",
      "\n",
      "Высота упаковки\n",
      "\t\\ 12 см\n",
      "В названии: -1 \n",
      "В оглавлении -1\n",
      "\n",
      "\n",
      "Ширина упаковки\n",
      "\t\\ 14 см\n",
      "В названии: -1 \n",
      "В оглавлении -1\n",
      "\n",
      "\n"
     ]
    }
   ],
   "source": [
    "i = 6\n",
    "title = df_csv.values[i][1]\n",
    "description = df_csv.values[i][2]\n",
    "properties = df_csv.values[i][5]\n",
    "print('Название',title)\n",
    "print('Описание',description)\n",
    "print()\n",
    "for property in properties:\n",
    "    print(property, properties[property], sep='\\n\\t\\ ')\n",
    "    in_title = check_in_string(title, properties[property])\n",
    "    in_descr = check_in_string(description, properties[property])\n",
    "    print('В названии:',in_title, '\\nВ оглавлении', in_descr)\n",
    "    print('\\n')"
   ]
  },
  {
   "cell_type": "code",
   "execution_count": 42,
   "id": "b5b2fe96-afd9-423e-b632-235291ee4ac5",
   "metadata": {},
   "outputs": [],
   "source": [
    "def dumb_calculate(values):\n",
    "    title = values[1]\n",
    "    description = values[2]\n",
    "    properties = values[5]\n",
    "    cnt = 0\n",
    "    for property in properties:\n",
    "        in_title = check_in_string(title, properties[property])\n",
    "        in_descr = check_in_string(description, properties[property])\n",
    "        if in_title!=-1 or in_descr!=-1:\n",
    "            cnt+=1\n",
    "    return (cnt, len(properties))"
   ]
  },
  {
   "cell_type": "code",
   "execution_count": 44,
   "id": "fb47138e-7748-4aa1-872b-fdf57ca8cfd7",
   "metadata": {},
   "outputs": [
    {
     "name": "stdout",
     "output_type": "stream",
     "text": [
      "0 (1, 18)\n",
      "1 (3, 25)\n",
      "2 (2, 15)\n",
      "3 (2, 15)\n",
      "4 (1, 32)\n",
      "5 (1, 12)\n",
      "6 (10, 46)\n",
      "7 (0, 16)\n",
      "8 (0, 14)\n",
      "9 (9, 27)\n",
      "10 (0, 8)\n",
      "11 (0, 8)\n",
      "12 (0, 8)\n",
      "13 (5, 24)\n",
      "14 (0, 7)\n",
      "15 (2, 24)\n",
      "16 (2, 17)\n",
      "17 (9, 27)\n",
      "18 (4, 12)\n",
      "19 (4, 12)\n",
      "20 (4, 27)\n",
      "21 (0, 17)\n",
      "22 (0, 17)\n",
      "23 (0, 29)\n",
      "24 (3, 12)\n",
      "25 (2, 11)\n",
      "26 (2, 11)\n",
      "27 (0, 34)\n",
      "28 (8, 36)\n",
      "29 (2, 20)\n",
      "30 (0, 14)\n",
      "31 (2, 10)\n",
      "32 (2, 8)\n",
      "33 (0, 18)\n",
      "34 (2, 16)\n",
      "35 (2, 11)\n",
      "36 (2, 7)\n",
      "37 (1, 5)\n",
      "38 (2, 20)\n",
      "39 (2, 20)\n",
      "40 (1, 25)\n",
      "41 (0, 20)\n",
      "42 (0, 20)\n",
      "43 (5, 17)\n",
      "44 (5, 17)\n",
      "45 (5, 17)\n",
      "46 (4, 17)\n",
      "47 (1, 13)\n",
      "48 (0, 14)\n",
      "49 (0, 14)\n",
      "50 (1, 11)\n",
      "51 (1, 19)\n",
      "52 (5, 31)\n",
      "53 (0, 4)\n",
      "54 (1, 3)\n",
      "55 (3, 7)\n",
      "56 (0, 4)\n",
      "57 (2, 8)\n",
      "58 (2, 11)\n",
      "59 (1, 11)\n",
      "60 (2, 8)\n",
      "61 (1, 27)\n",
      "62 (5, 25)\n",
      "63 (6, 29)\n",
      "64 (6, 14)\n",
      "65 (7, 15)\n",
      "66 (6, 14)\n",
      "67 (5, 21)\n",
      "68 (1, 28)\n",
      "69 (4, 16)\n",
      "70 (4, 24)\n",
      "71 (4, 24)\n",
      "72 (3, 24)\n",
      "73 (3, 24)\n",
      "74 (2, 15)\n",
      "75 (2, 28)\n",
      "76 (1, 8)\n",
      "77 (1, 6)\n",
      "78 (0, 5)\n",
      "79 (1, 31)\n",
      "80 (2, 28)\n",
      "81 (7, 33)\n",
      "82 (0, 6)\n",
      "83 (0, 8)\n",
      "84 (1, 20)\n",
      "85 (1, 20)\n",
      "86 (0, 32)\n",
      "87 (1, 20)\n",
      "88 (2, 33)\n",
      "89 (2, 18)\n",
      "90 (2, 13)\n",
      "91 (3, 16)\n",
      "92 (2, 10)\n",
      "93 (1, 6)\n",
      "94 (0, 22)\n",
      "95 (10, 31)\n",
      "96 (3, 13)\n",
      "97 (6, 28)\n",
      "98 (2, 12)\n",
      "99 (4, 39)\n"
     ]
    }
   ],
   "source": [
    "for i in range(100):\n",
    "    print(i, dumb_calculate(df_csv.values[i]))"
   ]
  },
  {
   "cell_type": "markdown",
   "id": "1e6a4e84-f8c6-4b83-84ab-6361356e841d",
   "metadata": {},
   "source": [
    "# Alibaba"
   ]
  },
  {
   "cell_type": "code",
   "execution_count": null,
   "id": "4afb05ce-e1de-4c13-a1d5-1856a3761081",
   "metadata": {},
   "outputs": [],
   "source": []
  }
 ],
 "metadata": {
  "kernelspec": {
   "display_name": "Python 3 (ipykernel)",
   "language": "python",
   "name": "python3"
  },
  "language_info": {
   "codemirror_mode": {
    "name": "ipython",
    "version": 3
   },
   "file_extension": ".py",
   "mimetype": "text/x-python",
   "name": "python",
   "nbconvert_exporter": "python",
   "pygments_lexer": "ipython3",
   "version": "3.11.7"
  }
 },
 "nbformat": 4,
 "nbformat_minor": 5
}
